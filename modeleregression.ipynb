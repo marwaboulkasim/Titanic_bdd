{
 "cells": [
  {
   "cell_type": "code",
   "execution_count": 11,
   "id": "76291520",
   "metadata": {},
   "outputs": [],
   "source": [
    "import pandas as pd\n",
    "from sklearn.neighbors import KNeighborsRegressor\n",
    "from sklearn.model_selection import train_test_split\n",
    "from sklearn.metrics import mean_squared_error\n",
    "\n",
    "# Charger les données\n",
    "df = pd.read_csv(\"train.csv\")"
   ]
  },
  {
   "cell_type": "code",
   "execution_count": 12,
   "id": "a2870f85",
   "metadata": {},
   "outputs": [],
   "source": [
    "\n",
    "# Garder seulement les colonnes utiles\n",
    "df = df[[\"Sex\", \"Age\"]]\n",
    "\n",
    "# Supprimer les lignes où l’âge est manquant\n",
    "df = df.dropna()\n",
    "\n",
    "# Convertir la colonne 'Sex' en numérique (male=0, female=1)\n",
    "        \n",
    "df[\"Sex\"] = df[\"Sex\"].map({\"male\": 0, \"female\": 1})\n",
    "\n",
    "# Séparer les variables\n",
    "X = df[[\"Sex\"]]\n",
    "y = df[\"Age\"]\n"
   ]
  },
  {
   "cell_type": "code",
   "execution_count": 15,
   "id": "2b968b24",
   "metadata": {},
   "outputs": [
    {
     "name": "stdout",
     "output_type": "stream",
     "text": [
      "Erreur quadratique moyenne (MSE) : 187.92174825174823\n",
      "Âge prédit pour une femme : 28.2\n",
      "Âge prédit pour un homme : 30.0\n"
     ]
    }
   ],
   "source": [
    "\n",
    "# Séparer en train et test\n",
    "X_train, X_test, y_train, y_test = train_test_split(X, y, test_size=0.2, random_state=42)\n",
    "\n",
    "# Créer le modèle KNN Regressor avec 5 voisins\n",
    "knn_reg = KNeighborsRegressor(n_neighbors=5)\n",
    "\n",
    "# Entraîner le modèle\n",
    "knn_reg.fit(X_train, y_train)\n",
    "\n",
    "# Prédire sur le jeu de test\n",
    "y_pred = knn_reg.predict(X_test)\n",
    "\n",
    "# Évaluer les performances\n",
    "mse = mean_squared_error(y_test, y_pred)\n",
    "print(\"Erreur quadratique moyenne (MSE) :\", mse)\n",
    "\n",
    "# Exemple de prédiction : prédire l'âge d'une femme (Sex = 1)\n",
    "example_female = pd.DataFrame({\"Sex\": [1]})\n",
    "predicted_age_female = knn_reg.predict(example_female)\n",
    "print(\"Âge prédit pour une femme :\", predicted_age_female[0])\n",
    "\n",
    "# Exemple de prédiction : prédire l'âge d'un homme (Sex = 0)\n",
    "example_male = pd.DataFrame({\"Sex\": [0]})\n",
    "predicted_age_male = knn_reg.predict(example_male)\n",
    "print(\"Âge prédit pour un homme :\", predicted_age_male[0])"
   ]
  }
 ],
 "metadata": {
  "kernelspec": {
   "display_name": ".venv",
   "language": "python",
   "name": "python3"
  },
  "language_info": {
   "codemirror_mode": {
    "name": "ipython",
    "version": 3
   },
   "file_extension": ".py",
   "mimetype": "text/x-python",
   "name": "python",
   "nbconvert_exporter": "python",
   "pygments_lexer": "ipython3",
   "version": "3.12.3"
  }
 },
 "nbformat": 4,
 "nbformat_minor": 5
}
