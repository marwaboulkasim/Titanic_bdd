{
 "cells": [
  {
   "cell_type": "code",
   "execution_count": 155,
   "id": "11da6185",
   "metadata": {},
   "outputs": [],
   "source": [
    "import pandas as pd\n",
    "from sklearn.model_selection import train_test_split\n",
    "from sklearn.ensemble import RandomForestClassifier\n",
    "from sklearn.metrics import accuracy_score, classification_report\n",
    "from sklearn.model_selection import GridSearchCV\n",
    "from sklearn.preprocessing import LabelEncoder"
   ]
  },
  {
   "cell_type": "code",
   "execution_count": 156,
   "id": "db039958",
   "metadata": {},
   "outputs": [],
   "source": [
    "# 1. Préparation des données d'entraînement\n",
    "X = data.drop('Survived', axis=1)\n",
    "y = data['Survived']\n",
    "\n",
    "# 2. Entraînement du modèle\n",
    "rf_model = RandomForestClassifier(n_estimators=100, random_state=42)\n",
    "rf_model.fit(X, y)\n",
    "\n",
    "# 3. Préparation des données de test\n",
    "test_data = pd.read_csv(\"test.csv\")\n",
    "\n",
    "# 4. Appliquer les mêmes transformations aux données de test\n",
    "# Créer la feature Family\n",
    "test_data[\"Family\"] = test_data[\"SibSp\"] + test_data[\"Parch\"]  + 1\n",
    "\n",
    "# Extraire le titre\n",
    "test_data[\"Title\"] = test_data[\"Name\"].apply(get_title)\n",
    "test_data[\"Title\"] = test_data[\"Title\"].replace(rare_titles, \"Rare\")\n",
    "   \n",
    "\n",
    "# Remplir les valeurs manquantes\n",
    "test_data[\"Age\"] = test_data[\"Age\"].fillna(test_data[\"Age\"].median())\n",
    "test_data[\"Fare\"] = test_data[\"Fare\"].fillna(test_data[\"Fare\"].median())\n",
    "\n",
    "\n",
    "# Garder les PassengerId pour la soumission\n",
    "passenger_ids = test_data[\"PassengerId\"]\n",
    "\n",
    "# Supprimer les colonnes inutiles\n",
    "test_data = test_data.drop(columns=[\"Name\", \"Ticket\", \"Cabin\", \"PassengerId\"])\n",
    "\n",
    "# One-hot encoding\n",
    "test_data = pd.get_dummies(test_data, columns=[\"Sex\", \"Embarked\", \"Title\"], drop_first=True)\n",
    "\n",
    "# S'assurer que les colonnes de test correspondent à celles d'entraînement\n",
    "for column in X.columns:\n",
    "    if column not in test_data.columns:\n",
    "        test_data[column] = 0\n",
    "test_data = test_data[X.columns]\n",
    "\n",
    "# 5. Faire les prédictions\n",
    "predictions = rf_model.predict(test_data)\n",
    "\n",
    "# 6. Créer le fichier de soumission\n",
    "submission = pd.DataFrame({\n",
    "    'PassengerId': passenger_ids,\n",
    "    'Survived': predictions\n",
    "})\n",
    "\n",
    "\n",
    "\n",
    "\n"
   ]
  },
  {
   "cell_type": "code",
   "execution_count": 157,
   "id": "904cc448",
   "metadata": {},
   "outputs": [],
   "source": [
    "# 1. Charger les données\n",
    "data = pd.read_csv(\"train.csv\")\n",
    "\n",
    "\n",
    "# 2. Créer la feature Family\n",
    "data[\"Family\"] = data[\"SibSp\"] + data[\"Parch\"] + 1\n",
    "\n",
    "# 3. Extraire le titre depuis le nom\n",
    "def get_title(name):\n",
    "    return name.split(\",\")[1].split(\".\")[0].strip()\n",
    "\n",
    "data[\"Title\"] = data[\"Name\"].apply(get_title)\n",
    "\n",
    "# 4. Regrouper les titres rares\n",
    "rare_titles = ['Lady', 'Countess', 'Capt', 'Col', 'Don', 'Dr', 'Major',\n",
    "               'Rev', 'Sir', 'Jonkheer', 'Dona']\n",
    "data[\"Title\"] = data[\"Title\"].replace(rare_titles, \"Rare\")\n",
    "\n",
    "# 5. Remplir les valeurs manquantes\n",
    "data[\"Age\"] = data[\"Age\"].fillna(data[\"Age\"].median())# A expliquer pq\n",
    "data[\"Embarked\"] = data[\"Embarked\"].fillna(data[\"Embarked\"].mode()[0])\n",
    "\n",
    "\n",
    "\n",
    "# 6. Supprimer la colonne Name (inutile)\n",
    "data = data.drop(columns=[\"Name\", \"Ticket\", \"Cabin\", \"PassengerId\"])\n",
    "\n",
    "# 7. Transformer les variables catégorielles en numériques (one-hot)\n",
    "data = pd.get_dummies(data, columns=[\"Sex\", \"Embarked\", \"Title\"], drop_first=True)\n",
    "\n"
   ]
  },
  {
   "cell_type": "markdown",
   "id": "020c17da",
   "metadata": {},
   "source": [
    "#           Évaluation du modèle"
   ]
  },
  {
   "cell_type": "code",
   "execution_count": 158,
   "id": "12b26d08",
   "metadata": {},
   "outputs": [
    {
     "name": "stdout",
     "output_type": "stream",
     "text": [
      "Fichier de soumission créé avec succès !\n",
      "\n",
      "Aperçu des prédictions :\n",
      "   PassengerId  Survived\n",
      "0          892         0\n",
      "1          893         0\n",
      "2          894         0\n",
      "3          895         1\n",
      "4          896         0\n",
      "\n",
      "Distribution des prédictions :\n",
      "Survived\n",
      "0    60.0\n",
      "1    40.0\n",
      "Name: proportion, dtype: float64 %\n",
      "Accuracy: 0.8324022346368715\n",
      "\n",
      "Classification Report:\n",
      "               precision    recall  f1-score   support\n",
      "\n",
      "           0       0.86      0.86      0.86       105\n",
      "           1       0.80      0.80      0.80        74\n",
      "\n",
      "    accuracy                           0.83       179\n",
      "   macro avg       0.83      0.83      0.83       179\n",
      "weighted avg       0.83      0.83      0.83       179\n",
      "\n"
     ]
    }
   ],
   "source": [
    "# 8. Séparer les données en features X et cible y\n",
    "X = data.drop(\"Survived\", axis=1)\n",
    "y = data[\"Survived\"]\n",
    "\n",
    "# 9. Diviser en jeu d'entraînement et de test\n",
    "X_train, X_test, y_train, y_test = train_test_split(X, y, test_size=0.2, random_state=42)\n",
    "\n",
    "# 10. Créer et entraîner le modèle RandomForest\n",
    "model = RandomForestClassifier(n_estimators=100, random_state=42)\n",
    "model.fit(X_train, y_train)\n",
    "\n",
    "# 11. Faire des prédictions sur le test\n",
    "y_pred = model.predict(X_test)\n",
    "\n",
    "\n",
    "#12. Sauvegarder le fichier de soumission\n",
    "submission.to_csv('submission2.csv', index=False)\n",
    "\n",
    "\n",
    "print(\"Fichier de soumission créé avec succès !\")\n",
    "print(\"\\nAperçu des prédictions :\")\n",
    "print(submission.head())\n",
    "print(\"\\nDistribution des prédictions :\")\n",
    "print(submission['Survived'].value_counts(normalize=True).round(3) * 100, \"%\")\n",
    "\n",
    "# 13. Afficher les résultats\n",
    "print(\"Accuracy:\", accuracy_score(y_test, y_pred))\n",
    "print(\"\\nClassification Report:\\n\", classification_report(y_test, y_pred))"
   ]
  },
  {
   "cell_type": "markdown",
   "id": "339d4baa",
   "metadata": {},
   "source": [
    "#                Analyse de l'importance des caractéristiques (features)"
   ]
  },
  {
   "cell_type": "code",
   "execution_count": null,
   "id": "439f385a",
   "metadata": {},
   "outputs": [
    {
     "name": "stdout",
     "output_type": "stream",
     "text": [
      "\n",
      "Importance des caractéristiques :\n",
      "               Feature  Importance\n",
      "4                 Fare    0.243611\n",
      "1                  Age    0.208030\n",
      "12            Title_Mr    0.135273\n",
      "6             Sex_male    0.118603\n",
      "0               Pclass    0.077289\n",
      "5               Family    0.050682\n",
      "2                SibSp    0.041397\n",
      "13           Title_Mrs    0.040274\n",
      "3                Parch    0.023258\n",
      "9           Title_Miss    0.021278\n",
      "8           Embarked_S    0.020173\n",
      "7           Embarked_Q    0.010466\n",
      "15          Title_Rare    0.009119\n",
      "14            Title_Ms    0.000322\n",
      "10          Title_Mlle    0.000140\n",
      "16  Title_the Countess    0.000067\n",
      "11           Title_Mme    0.000019\n"
     ]
    },
    {
     "data": {
      "application/vnd.plotly.v1+json": {
       "config": {
        "plotlyServerURL": "https://plot.ly"
       },
       "data": [
        {
         "hovertemplate": "Importance=%{x}<br>Variable=%{y}<extra></extra>",
         "legendgroup": "",
         "marker": {
          "color": "#636efa",
          "pattern": {
           "shape": ""
          }
         },
         "name": "",
         "orientation": "h",
         "showlegend": false,
         "textposition": "auto",
         "type": "bar",
         "x": {
          "bdata": "AKhmDcZv9D4Q3m1I74IRP3DaospwUCI/c+EOWocXNT+yhsmYOq2CP0A8hCIYb4U/1eA5kkiolD8FmDpNxcmVP3RT4rUL0Zc/1HIWMMOepD9ZnZjZ7jGlP9hLNfTs8qk/xUB8/jfJsz/di/+mv1y+PxHjp4miUME/afSFCragyj9lTEK/py7PPw==",
          "dtype": "f8"
         },
         "xaxis": "x",
         "y": [
          "Title_Mme",
          "Title_the Countess",
          "Title_Mlle",
          "Title_Ms",
          "Title_Rare",
          "Embarked_Q",
          "Embarked_S",
          "Title_Miss",
          "Parch",
          "Title_Mrs",
          "SibSp",
          "Family",
          "Pclass",
          "Sex_male",
          "Title_Mr",
          "Age",
          "Fare"
         ],
         "yaxis": "y"
        }
       ],
       "layout": {
        "barmode": "relative",
        "height": 500,
        "legend": {
         "tracegroupgap": 0
        },
        "template": {
         "data": {
          "bar": [
           {
            "error_x": {
             "color": "#2a3f5f"
            },
            "error_y": {
             "color": "#2a3f5f"
            },
            "marker": {
             "line": {
              "color": "#E5ECF6",
              "width": 0.5
             },
             "pattern": {
              "fillmode": "overlay",
              "size": 10,
              "solidity": 0.2
             }
            },
            "type": "bar"
           }
          ],
          "barpolar": [
           {
            "marker": {
             "line": {
              "color": "#E5ECF6",
              "width": 0.5
             },
             "pattern": {
              "fillmode": "overlay",
              "size": 10,
              "solidity": 0.2
             }
            },
            "type": "barpolar"
           }
          ],
          "carpet": [
           {
            "aaxis": {
             "endlinecolor": "#2a3f5f",
             "gridcolor": "white",
             "linecolor": "white",
             "minorgridcolor": "white",
             "startlinecolor": "#2a3f5f"
            },
            "baxis": {
             "endlinecolor": "#2a3f5f",
             "gridcolor": "white",
             "linecolor": "white",
             "minorgridcolor": "white",
             "startlinecolor": "#2a3f5f"
            },
            "type": "carpet"
           }
          ],
          "choropleth": [
           {
            "colorbar": {
             "outlinewidth": 0,
             "ticks": ""
            },
            "type": "choropleth"
           }
          ],
          "contour": [
           {
            "colorbar": {
             "outlinewidth": 0,
             "ticks": ""
            },
            "colorscale": [
             [
              0,
              "#0d0887"
             ],
             [
              0.1111111111111111,
              "#46039f"
             ],
             [
              0.2222222222222222,
              "#7201a8"
             ],
             [
              0.3333333333333333,
              "#9c179e"
             ],
             [
              0.4444444444444444,
              "#bd3786"
             ],
             [
              0.5555555555555556,
              "#d8576b"
             ],
             [
              0.6666666666666666,
              "#ed7953"
             ],
             [
              0.7777777777777778,
              "#fb9f3a"
             ],
             [
              0.8888888888888888,
              "#fdca26"
             ],
             [
              1,
              "#f0f921"
             ]
            ],
            "type": "contour"
           }
          ],
          "contourcarpet": [
           {
            "colorbar": {
             "outlinewidth": 0,
             "ticks": ""
            },
            "type": "contourcarpet"
           }
          ],
          "heatmap": [
           {
            "colorbar": {
             "outlinewidth": 0,
             "ticks": ""
            },
            "colorscale": [
             [
              0,
              "#0d0887"
             ],
             [
              0.1111111111111111,
              "#46039f"
             ],
             [
              0.2222222222222222,
              "#7201a8"
             ],
             [
              0.3333333333333333,
              "#9c179e"
             ],
             [
              0.4444444444444444,
              "#bd3786"
             ],
             [
              0.5555555555555556,
              "#d8576b"
             ],
             [
              0.6666666666666666,
              "#ed7953"
             ],
             [
              0.7777777777777778,
              "#fb9f3a"
             ],
             [
              0.8888888888888888,
              "#fdca26"
             ],
             [
              1,
              "#f0f921"
             ]
            ],
            "type": "heatmap"
           }
          ],
          "histogram": [
           {
            "marker": {
             "pattern": {
              "fillmode": "overlay",
              "size": 10,
              "solidity": 0.2
             }
            },
            "type": "histogram"
           }
          ],
          "histogram2d": [
           {
            "colorbar": {
             "outlinewidth": 0,
             "ticks": ""
            },
            "colorscale": [
             [
              0,
              "#0d0887"
             ],
             [
              0.1111111111111111,
              "#46039f"
             ],
             [
              0.2222222222222222,
              "#7201a8"
             ],
             [
              0.3333333333333333,
              "#9c179e"
             ],
             [
              0.4444444444444444,
              "#bd3786"
             ],
             [
              0.5555555555555556,
              "#d8576b"
             ],
             [
              0.6666666666666666,
              "#ed7953"
             ],
             [
              0.7777777777777778,
              "#fb9f3a"
             ],
             [
              0.8888888888888888,
              "#fdca26"
             ],
             [
              1,
              "#f0f921"
             ]
            ],
            "type": "histogram2d"
           }
          ],
          "histogram2dcontour": [
           {
            "colorbar": {
             "outlinewidth": 0,
             "ticks": ""
            },
            "colorscale": [
             [
              0,
              "#0d0887"
             ],
             [
              0.1111111111111111,
              "#46039f"
             ],
             [
              0.2222222222222222,
              "#7201a8"
             ],
             [
              0.3333333333333333,
              "#9c179e"
             ],
             [
              0.4444444444444444,
              "#bd3786"
             ],
             [
              0.5555555555555556,
              "#d8576b"
             ],
             [
              0.6666666666666666,
              "#ed7953"
             ],
             [
              0.7777777777777778,
              "#fb9f3a"
             ],
             [
              0.8888888888888888,
              "#fdca26"
             ],
             [
              1,
              "#f0f921"
             ]
            ],
            "type": "histogram2dcontour"
           }
          ],
          "mesh3d": [
           {
            "colorbar": {
             "outlinewidth": 0,
             "ticks": ""
            },
            "type": "mesh3d"
           }
          ],
          "parcoords": [
           {
            "line": {
             "colorbar": {
              "outlinewidth": 0,
              "ticks": ""
             }
            },
            "type": "parcoords"
           }
          ],
          "pie": [
           {
            "automargin": true,
            "type": "pie"
           }
          ],
          "scatter": [
           {
            "fillpattern": {
             "fillmode": "overlay",
             "size": 10,
             "solidity": 0.2
            },
            "type": "scatter"
           }
          ],
          "scatter3d": [
           {
            "line": {
             "colorbar": {
              "outlinewidth": 0,
              "ticks": ""
             }
            },
            "marker": {
             "colorbar": {
              "outlinewidth": 0,
              "ticks": ""
             }
            },
            "type": "scatter3d"
           }
          ],
          "scattercarpet": [
           {
            "marker": {
             "colorbar": {
              "outlinewidth": 0,
              "ticks": ""
             }
            },
            "type": "scattercarpet"
           }
          ],
          "scattergeo": [
           {
            "marker": {
             "colorbar": {
              "outlinewidth": 0,
              "ticks": ""
             }
            },
            "type": "scattergeo"
           }
          ],
          "scattergl": [
           {
            "marker": {
             "colorbar": {
              "outlinewidth": 0,
              "ticks": ""
             }
            },
            "type": "scattergl"
           }
          ],
          "scattermap": [
           {
            "marker": {
             "colorbar": {
              "outlinewidth": 0,
              "ticks": ""
             }
            },
            "type": "scattermap"
           }
          ],
          "scattermapbox": [
           {
            "marker": {
             "colorbar": {
              "outlinewidth": 0,
              "ticks": ""
             }
            },
            "type": "scattermapbox"
           }
          ],
          "scatterpolar": [
           {
            "marker": {
             "colorbar": {
              "outlinewidth": 0,
              "ticks": ""
             }
            },
            "type": "scatterpolar"
           }
          ],
          "scatterpolargl": [
           {
            "marker": {
             "colorbar": {
              "outlinewidth": 0,
              "ticks": ""
             }
            },
            "type": "scatterpolargl"
           }
          ],
          "scatterternary": [
           {
            "marker": {
             "colorbar": {
              "outlinewidth": 0,
              "ticks": ""
             }
            },
            "type": "scatterternary"
           }
          ],
          "surface": [
           {
            "colorbar": {
             "outlinewidth": 0,
             "ticks": ""
            },
            "colorscale": [
             [
              0,
              "#0d0887"
             ],
             [
              0.1111111111111111,
              "#46039f"
             ],
             [
              0.2222222222222222,
              "#7201a8"
             ],
             [
              0.3333333333333333,
              "#9c179e"
             ],
             [
              0.4444444444444444,
              "#bd3786"
             ],
             [
              0.5555555555555556,
              "#d8576b"
             ],
             [
              0.6666666666666666,
              "#ed7953"
             ],
             [
              0.7777777777777778,
              "#fb9f3a"
             ],
             [
              0.8888888888888888,
              "#fdca26"
             ],
             [
              1,
              "#f0f921"
             ]
            ],
            "type": "surface"
           }
          ],
          "table": [
           {
            "cells": {
             "fill": {
              "color": "#EBF0F8"
             },
             "line": {
              "color": "white"
             }
            },
            "header": {
             "fill": {
              "color": "#C8D4E3"
             },
             "line": {
              "color": "white"
             }
            },
            "type": "table"
           }
          ]
         },
         "layout": {
          "annotationdefaults": {
           "arrowcolor": "#2a3f5f",
           "arrowhead": 0,
           "arrowwidth": 1
          },
          "autotypenumbers": "strict",
          "coloraxis": {
           "colorbar": {
            "outlinewidth": 0,
            "ticks": ""
           }
          },
          "colorscale": {
           "diverging": [
            [
             0,
             "#8e0152"
            ],
            [
             0.1,
             "#c51b7d"
            ],
            [
             0.2,
             "#de77ae"
            ],
            [
             0.3,
             "#f1b6da"
            ],
            [
             0.4,
             "#fde0ef"
            ],
            [
             0.5,
             "#f7f7f7"
            ],
            [
             0.6,
             "#e6f5d0"
            ],
            [
             0.7,
             "#b8e186"
            ],
            [
             0.8,
             "#7fbc41"
            ],
            [
             0.9,
             "#4d9221"
            ],
            [
             1,
             "#276419"
            ]
           ],
           "sequential": [
            [
             0,
             "#0d0887"
            ],
            [
             0.1111111111111111,
             "#46039f"
            ],
            [
             0.2222222222222222,
             "#7201a8"
            ],
            [
             0.3333333333333333,
             "#9c179e"
            ],
            [
             0.4444444444444444,
             "#bd3786"
            ],
            [
             0.5555555555555556,
             "#d8576b"
            ],
            [
             0.6666666666666666,
             "#ed7953"
            ],
            [
             0.7777777777777778,
             "#fb9f3a"
            ],
            [
             0.8888888888888888,
             "#fdca26"
            ],
            [
             1,
             "#f0f921"
            ]
           ],
           "sequentialminus": [
            [
             0,
             "#0d0887"
            ],
            [
             0.1111111111111111,
             "#46039f"
            ],
            [
             0.2222222222222222,
             "#7201a8"
            ],
            [
             0.3333333333333333,
             "#9c179e"
            ],
            [
             0.4444444444444444,
             "#bd3786"
            ],
            [
             0.5555555555555556,
             "#d8576b"
            ],
            [
             0.6666666666666666,
             "#ed7953"
            ],
            [
             0.7777777777777778,
             "#fb9f3a"
            ],
            [
             0.8888888888888888,
             "#fdca26"
            ],
            [
             1,
             "#f0f921"
            ]
           ]
          },
          "colorway": [
           "#636efa",
           "#EF553B",
           "#00cc96",
           "#ab63fa",
           "#FFA15A",
           "#19d3f3",
           "#FF6692",
           "#B6E880",
           "#FF97FF",
           "#FECB52"
          ],
          "font": {
           "color": "#2a3f5f"
          },
          "geo": {
           "bgcolor": "white",
           "lakecolor": "white",
           "landcolor": "#E5ECF6",
           "showlakes": true,
           "showland": true,
           "subunitcolor": "white"
          },
          "hoverlabel": {
           "align": "left"
          },
          "hovermode": "closest",
          "mapbox": {
           "style": "light"
          },
          "paper_bgcolor": "white",
          "plot_bgcolor": "#E5ECF6",
          "polar": {
           "angularaxis": {
            "gridcolor": "white",
            "linecolor": "white",
            "ticks": ""
           },
           "bgcolor": "#E5ECF6",
           "radialaxis": {
            "gridcolor": "white",
            "linecolor": "white",
            "ticks": ""
           }
          },
          "scene": {
           "xaxis": {
            "backgroundcolor": "#E5ECF6",
            "gridcolor": "white",
            "gridwidth": 2,
            "linecolor": "white",
            "showbackground": true,
            "ticks": "",
            "zerolinecolor": "white"
           },
           "yaxis": {
            "backgroundcolor": "#E5ECF6",
            "gridcolor": "white",
            "gridwidth": 2,
            "linecolor": "white",
            "showbackground": true,
            "ticks": "",
            "zerolinecolor": "white"
           },
           "zaxis": {
            "backgroundcolor": "#E5ECF6",
            "gridcolor": "white",
            "gridwidth": 2,
            "linecolor": "white",
            "showbackground": true,
            "ticks": "",
            "zerolinecolor": "white"
           }
          },
          "shapedefaults": {
           "line": {
            "color": "#2a3f5f"
           }
          },
          "ternary": {
           "aaxis": {
            "gridcolor": "white",
            "linecolor": "white",
            "ticks": ""
           },
           "baxis": {
            "gridcolor": "white",
            "linecolor": "white",
            "ticks": ""
           },
           "bgcolor": "#E5ECF6",
           "caxis": {
            "gridcolor": "white",
            "linecolor": "white",
            "ticks": ""
           }
          },
          "title": {
           "x": 0.05
          },
          "xaxis": {
           "automargin": true,
           "gridcolor": "white",
           "linecolor": "white",
           "ticks": "",
           "title": {
            "standoff": 15
           },
           "zerolinecolor": "white",
           "zerolinewidth": 2
          },
          "yaxis": {
           "automargin": true,
           "gridcolor": "white",
           "linecolor": "white",
           "ticks": "",
           "title": {
            "standoff": 15
           },
           "zerolinecolor": "white",
           "zerolinewidth": 2
          }
         }
        },
        "title": {
         "text": "Importance des caractéristiques (Random Forest)"
        },
        "xaxis": {
         "anchor": "y",
         "domain": [
          0,
          1
         ],
         "title": {
          "text": "Importance"
         }
        },
        "yaxis": {
         "anchor": "x",
         "domain": [
          0,
          1
         ],
         "title": {
          "text": "Variable"
         }
        }
       }
      }
     },
     "metadata": {},
     "output_type": "display_data"
    }
   ],
   "source": [
    "# Récupérer les importances\n",
    "feature_importance = model.feature_importances_\n",
    "feature_names = X.columns\n",
    "\n",
    "# Créer un DataFrame trié\n",
    "importances_df = pd.DataFrame({\n",
    "    'Feature': feature_names,\n",
    "    'Importance': feature_importance\n",
    "}).sort_values(by='Importance', ascending=False)\n",
    "\n",
    "# Affichage texte\n",
    "print(\"\\nImportance des caractéristiques :\")\n",
    "print(importances_df)\n",
    "\n",
    "# Visualisation avec Plotly\n",
    "import plotly.express as px\n",
    "\n",
    "fig = px.bar(importances_df.sort_values(by='Importance', ascending=True),  # du plus petit au plus grand pour une barre horizontale\n",
    "             x='Importance',\n",
    "             y='Feature',\n",
    "             orientation='h',\n",
    "             title=\"Importance des caractéristiques (Random Forest)\",\n",
    "             labels={\"Importance\": \"Importance\", \"Feature\": \"Variable\"},\n",
    "             height=500)\n",
    "fig.show()\n"
   ]
  },
  {
   "cell_type": "markdown",
   "id": "baeadbfe",
   "metadata": {},
   "source": [
    "#       Recherche par grille avec validation croisée"
   ]
  },
  {
   "cell_type": "markdown",
   "id": "c1c22ae7",
   "metadata": {},
   "source": [
    "<!-- #           Performance Optimization  Grid Search Cross-Validation   -->"
   ]
  },
  {
   "cell_type": "code",
   "execution_count": 160,
   "id": "fdbe853c",
   "metadata": {},
   "outputs": [
    {
     "name": "stdout",
     "output_type": "stream",
     "text": [
      "Meilleurs paramètres trouvés :  {'max_depth': 5, 'min_samples_leaf': 1, 'min_samples_split': 2, 'n_estimators': 50}\n"
     ]
    }
   ],
   "source": [
    "from sklearn.model_selection import GridSearchCV\n",
    "from sklearn.ensemble import RandomForestClassifier\n",
    "param_grid = {\n",
    "    'n_estimators': [50, 100, 200],\n",
    "    'max_depth': [5, 10, 15, None],\n",
    "    'min_samples_split': [2, 5, 10],\n",
    "    'min_samples_leaf': [1, 2, 4]\n",
    "}\n",
    "rf_model = RandomForestClassifier(random_state=42)\n",
    "\n",
    "grid_search = GridSearchCV(\n",
    "    estimator=rf_model,\n",
    "    param_grid=param_grid,\n",
    "    cv=5,                 # 5-fold cross-validation\n",
    "    scoring='accuracy',   # on optimise l'accuracy\n",
    "    n_jobs=-1             # utilise tous les CPU disponibles\n",
    ")\n",
    "grid_search.fit(X_train, y_train)\n",
    "best_params = grid_search.best_params_\n",
    "print(\"Meilleurs paramètres trouvés : \", best_params)\n"
   ]
  },
  {
   "cell_type": "markdown",
   "id": "02eaff05",
   "metadata": {},
   "source": [
    "# 2. Techniques d'optimisation avancées"
   ]
  },
  {
   "cell_type": "code",
   "execution_count": 161,
   "id": "8254f802",
   "metadata": {},
   "outputs": [
    {
     "name": "stdout",
     "output_type": "stream",
     "text": [
      "{'max_depth': np.int64(67), 'max_features': np.float64(0.21577815032788095), 'min_samples_split': 15, 'n_estimators': 334}\n",
      "              precision    recall  f1-score   support\n",
      "\n",
      "           0       0.85      0.89      0.87       105\n",
      "           1       0.83      0.78      0.81        74\n",
      "\n",
      "    accuracy                           0.84       179\n",
      "   macro avg       0.84      0.83      0.84       179\n",
      "weighted avg       0.84      0.84      0.84       179\n",
      "\n",
      "Fichier de soumission créé avec succès !\n",
      "   PassengerId  Survived\n",
      "0          892         0\n",
      "1          893         0\n",
      "2          894         0\n",
      "3          895         1\n",
      "4          896         0\n",
      "Survived\n",
      "0    60.0\n",
      "1    40.0\n",
      "Name: proportion, dtype: float64 %\n"
     ]
    }
   ],
   "source": [
    "from sklearn.model_selection import RandomizedSearchCV\n",
    "from scipy.stats import randint, uniform\n",
    "random_param_dist = {\n",
    "    'n_estimators': randint(50, 500),                  # nb d’arbres entre 50 et 500\n",
    "    'max_depth': [None] + list(randint(10, 100).rvs(5)),  # profondeurs entre 10 et 100 + None\n",
    "    'min_samples_split': randint(2, 20),               # min. d’échantillons pour splitter un noeud\n",
    "    'max_features': uniform(0.1, 0.9)                  # proportion de features à considérer\n",
    "}\n",
    "\n",
    "random_search = RandomizedSearchCV(\n",
    "    estimator=rf_model,\n",
    "    param_distributions=random_param_dist,\n",
    "    n_iter=100,\n",
    "    cv=5,\n",
    "    scoring='accuracy',\n",
    "    n_jobs=-1\n",
    ")\n",
    "\n",
    "random_search.fit(X_train, y_train)\n",
    "print(random_search.best_params_)\n",
    "\n",
    "best_rf = random_search.best_estimator_\n",
    "y_pred = best_rf.predict(X_test)\n",
    "\n",
    "\n",
    "\n",
    "\n",
    "\n",
    "\n",
    "from sklearn.metrics import classification_report\n",
    "print(classification_report(y_test, y_pred))\n",
    "\n",
    "submission.to_csv('submission4.csv', index=False)\n",
    "print(\"Fichier de soumission créé avec succès !\")\n",
    "print(submission.head())\n",
    "print(submission['Survived'].value_counts(normalize=True).round(3) * 100, \"%\")"
   ]
  },
  {
   "cell_type": "markdown",
   "id": "9c075127",
   "metadata": {},
   "source": [
    "<!-- #  \n",
    "\n",
    "Précision classe 1 (survivants) : 83 % des prédits comme \"survivants\" sont corrects.\n",
    "\n",
    "Rappel classe 1 : le modèle retrouve 73 % des vrais survivants. \n",
    "\n",
    "F1-score combine les deux : ici 0.78 → un bon équilibre entre les deux.\n",
    "\n",
    "Accuracy globale : 83 % → ton modèle prédit correctement 83 passagers sur 100. -->"
   ]
  }
 ],
 "metadata": {
  "kernelspec": {
   "display_name": ".venv",
   "language": "python",
   "name": "python3"
  },
  "language_info": {
   "codemirror_mode": {
    "name": "ipython",
    "version": 3
   },
   "file_extension": ".py",
   "mimetype": "text/x-python",
   "name": "python",
   "nbconvert_exporter": "python",
   "pygments_lexer": "ipython3",
   "version": "3.12.3"
  }
 },
 "nbformat": 4,
 "nbformat_minor": 5
}
