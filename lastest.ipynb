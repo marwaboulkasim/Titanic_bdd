{
 "cells": [
  {
   "cell_type": "code",
   "execution_count": 24,
   "id": "120e2388",
   "metadata": {},
   "outputs": [
    {
     "name": "stdout",
     "output_type": "stream",
     "text": [
      "Étape 1 : Chargement des bibliothèques\n",
      "Bibliothèques chargées\n",
      "\n"
     ]
    }
   ],
   "source": [
    "# 1. Imports et configuration\n",
    "# ===============================\n",
    "print(\"Étape 1 : Chargement des bibliothèques\")\n",
    "\n",
    "import pandas as pd\n",
    "import numpy as np\n",
    "import plotly.express as px\n",
    "import plotly.graph_objects as go\n",
    "from sklearn.model_selection import train_test_split, cross_val_score, GridSearchCV\n",
    "from sklearn.ensemble import RandomForestClassifier\n",
    "from sklearn.linear_model import LogisticRegression\n",
    "from sklearn.svm import SVC\n",
    "from sklearn.metrics import accuracy_score, classification_report, confusion_matrix, roc_curve, auc\n",
    "from sklearn.preprocessing import StandardScaler\n",
    "import warnings\n",
    "warnings.filterwarnings('ignore')\n",
    "\n",
    "print(\"Bibliothèques chargées\\n\")\n"
   ]
  },
  {
   "cell_type": "code",
   "execution_count": 25,
   "id": "ba29f3fd",
   "metadata": {},
   "outputs": [
    {
     "name": "stdout",
     "output_type": "stream",
     "text": [
      "Étape 2 : Chargement du dataset\n",
      "Nombre de passagers : 891\n",
      "Nombre de variables : 12\n",
      "Taux de survie global : 38.38%\n"
     ]
    },
    {
     "data": {
      "application/vnd.microsoft.datawrangler.viewer.v0+json": {
       "columns": [
        {
         "name": "index",
         "rawType": "int64",
         "type": "integer"
        },
        {
         "name": "PassengerId",
         "rawType": "int64",
         "type": "integer"
        },
        {
         "name": "Survived",
         "rawType": "int64",
         "type": "integer"
        },
        {
         "name": "Pclass",
         "rawType": "int64",
         "type": "integer"
        },
        {
         "name": "Name",
         "rawType": "object",
         "type": "string"
        },
        {
         "name": "Sex",
         "rawType": "object",
         "type": "string"
        },
        {
         "name": "Age",
         "rawType": "float64",
         "type": "float"
        },
        {
         "name": "SibSp",
         "rawType": "int64",
         "type": "integer"
        },
        {
         "name": "Parch",
         "rawType": "int64",
         "type": "integer"
        },
        {
         "name": "Ticket",
         "rawType": "object",
         "type": "string"
        },
        {
         "name": "Fare",
         "rawType": "float64",
         "type": "float"
        },
        {
         "name": "Cabin",
         "rawType": "object",
         "type": "unknown"
        },
        {
         "name": "Embarked",
         "rawType": "object",
         "type": "string"
        }
       ],
       "ref": "2d8a3304-a52d-4ffa-8ff5-fa76c2d2c983",
       "rows": [
        [
         "0",
         "1",
         "0",
         "3",
         "Braund, Mr. Owen Harris",
         "male",
         "22.0",
         "1",
         "0",
         "A/5 21171",
         "7.25",
         null,
         "S"
        ],
        [
         "1",
         "2",
         "1",
         "1",
         "Cumings, Mrs. John Bradley (Florence Briggs Thayer)",
         "female",
         "38.0",
         "1",
         "0",
         "PC 17599",
         "71.2833",
         "C85",
         "C"
        ],
        [
         "2",
         "3",
         "1",
         "3",
         "Heikkinen, Miss. Laina",
         "female",
         "26.0",
         "0",
         "0",
         "STON/O2. 3101282",
         "7.925",
         null,
         "S"
        ],
        [
         "3",
         "4",
         "1",
         "1",
         "Futrelle, Mrs. Jacques Heath (Lily May Peel)",
         "female",
         "35.0",
         "1",
         "0",
         "113803",
         "53.1",
         "C123",
         "S"
        ],
        [
         "4",
         "5",
         "0",
         "3",
         "Allen, Mr. William Henry",
         "male",
         "35.0",
         "0",
         "0",
         "373450",
         "8.05",
         null,
         "S"
        ]
       ],
       "shape": {
        "columns": 12,
        "rows": 5
       }
      },
      "text/html": [
       "<div>\n",
       "<style scoped>\n",
       "    .dataframe tbody tr th:only-of-type {\n",
       "        vertical-align: middle;\n",
       "    }\n",
       "\n",
       "    .dataframe tbody tr th {\n",
       "        vertical-align: top;\n",
       "    }\n",
       "\n",
       "    .dataframe thead th {\n",
       "        text-align: right;\n",
       "    }\n",
       "</style>\n",
       "<table border=\"1\" class=\"dataframe\">\n",
       "  <thead>\n",
       "    <tr style=\"text-align: right;\">\n",
       "      <th></th>\n",
       "      <th>PassengerId</th>\n",
       "      <th>Survived</th>\n",
       "      <th>Pclass</th>\n",
       "      <th>Name</th>\n",
       "      <th>Sex</th>\n",
       "      <th>Age</th>\n",
       "      <th>SibSp</th>\n",
       "      <th>Parch</th>\n",
       "      <th>Ticket</th>\n",
       "      <th>Fare</th>\n",
       "      <th>Cabin</th>\n",
       "      <th>Embarked</th>\n",
       "    </tr>\n",
       "  </thead>\n",
       "  <tbody>\n",
       "    <tr>\n",
       "      <th>0</th>\n",
       "      <td>1</td>\n",
       "      <td>0</td>\n",
       "      <td>3</td>\n",
       "      <td>Braund, Mr. Owen Harris</td>\n",
       "      <td>male</td>\n",
       "      <td>22.0</td>\n",
       "      <td>1</td>\n",
       "      <td>0</td>\n",
       "      <td>A/5 21171</td>\n",
       "      <td>7.2500</td>\n",
       "      <td>NaN</td>\n",
       "      <td>S</td>\n",
       "    </tr>\n",
       "    <tr>\n",
       "      <th>1</th>\n",
       "      <td>2</td>\n",
       "      <td>1</td>\n",
       "      <td>1</td>\n",
       "      <td>Cumings, Mrs. John Bradley (Florence Briggs Th...</td>\n",
       "      <td>female</td>\n",
       "      <td>38.0</td>\n",
       "      <td>1</td>\n",
       "      <td>0</td>\n",
       "      <td>PC 17599</td>\n",
       "      <td>71.2833</td>\n",
       "      <td>C85</td>\n",
       "      <td>C</td>\n",
       "    </tr>\n",
       "    <tr>\n",
       "      <th>2</th>\n",
       "      <td>3</td>\n",
       "      <td>1</td>\n",
       "      <td>3</td>\n",
       "      <td>Heikkinen, Miss. Laina</td>\n",
       "      <td>female</td>\n",
       "      <td>26.0</td>\n",
       "      <td>0</td>\n",
       "      <td>0</td>\n",
       "      <td>STON/O2. 3101282</td>\n",
       "      <td>7.9250</td>\n",
       "      <td>NaN</td>\n",
       "      <td>S</td>\n",
       "    </tr>\n",
       "    <tr>\n",
       "      <th>3</th>\n",
       "      <td>4</td>\n",
       "      <td>1</td>\n",
       "      <td>1</td>\n",
       "      <td>Futrelle, Mrs. Jacques Heath (Lily May Peel)</td>\n",
       "      <td>female</td>\n",
       "      <td>35.0</td>\n",
       "      <td>1</td>\n",
       "      <td>0</td>\n",
       "      <td>113803</td>\n",
       "      <td>53.1000</td>\n",
       "      <td>C123</td>\n",
       "      <td>S</td>\n",
       "    </tr>\n",
       "    <tr>\n",
       "      <th>4</th>\n",
       "      <td>5</td>\n",
       "      <td>0</td>\n",
       "      <td>3</td>\n",
       "      <td>Allen, Mr. William Henry</td>\n",
       "      <td>male</td>\n",
       "      <td>35.0</td>\n",
       "      <td>0</td>\n",
       "      <td>0</td>\n",
       "      <td>373450</td>\n",
       "      <td>8.0500</td>\n",
       "      <td>NaN</td>\n",
       "      <td>S</td>\n",
       "    </tr>\n",
       "  </tbody>\n",
       "</table>\n",
       "</div>"
      ],
      "text/plain": [
       "   PassengerId  Survived  Pclass  \\\n",
       "0            1         0       3   \n",
       "1            2         1       1   \n",
       "2            3         1       3   \n",
       "3            4         1       1   \n",
       "4            5         0       3   \n",
       "\n",
       "                                                Name     Sex   Age  SibSp  \\\n",
       "0                            Braund, Mr. Owen Harris    male  22.0      1   \n",
       "1  Cumings, Mrs. John Bradley (Florence Briggs Th...  female  38.0      1   \n",
       "2                             Heikkinen, Miss. Laina  female  26.0      0   \n",
       "3       Futrelle, Mrs. Jacques Heath (Lily May Peel)  female  35.0      1   \n",
       "4                           Allen, Mr. William Henry    male  35.0      0   \n",
       "\n",
       "   Parch            Ticket     Fare Cabin Embarked  \n",
       "0      0         A/5 21171   7.2500   NaN        S  \n",
       "1      0          PC 17599  71.2833   C85        C  \n",
       "2      0  STON/O2. 3101282   7.9250   NaN        S  \n",
       "3      0            113803  53.1000  C123        S  \n",
       "4      0            373450   8.0500   NaN        S  "
      ]
     },
     "execution_count": 25,
     "metadata": {},
     "output_type": "execute_result"
    }
   ],
   "source": [
    "\n",
    "# 2. Chargement des données\n",
    "\n",
    "print(\"Étape 2 : Chargement du dataset\")\n",
    "\n",
    "data = pd.read_csv(\"bdd/train.csv\")\n",
    "print(f\"Nombre de passagers : {data.shape[0]}\")\n",
    "print(f\"Nombre de variables : {data.shape[1]}\")\n",
    "print(f\"Taux de survie global : {data['Survived'].mean():.2%}\")\n",
    "data.head()\n"
   ]
  },
  {
   "cell_type": "markdown",
   "id": "c2753ebb",
   "metadata": {},
   "source": [
    "# Étape 3 : Analyse des valeurs manquantes\n",
    "\n",
    "<!-- Analyse des valeurs manquantes\n",
    "Tu comptes combien de valeurs sont manquantes par colonne, et tu affiches celles qui en ont au moins une.\n",
    "Cela permet d’identifier où il faut faire un nettoyage ou une imputation. -->"
   ]
  },
  {
   "cell_type": "code",
   "execution_count": 26,
   "id": "cd9fa2f5",
   "metadata": {},
   "outputs": [
    {
     "name": "stdout",
     "output_type": "stream",
     "text": [
      "Étape 3 : Analyse des valeurs manquantes\n",
      "Age         177\n",
      "Cabin       687\n",
      "Embarked      2\n",
      "dtype: int64\n"
     ]
    },
    {
     "data": {
      "application/vnd.plotly.v1+json": {
       "config": {
        "plotlyServerURL": "https://plot.ly"
       },
       "data": [
        {
         "hovertemplate": "variable=0<br>Variables=%{x}<br>Nombre de valeurs manquantes=%{y}<extra></extra>",
         "legendgroup": "0",
         "marker": {
          "color": "#636efa",
          "pattern": {
           "shape": ""
          }
         },
         "name": "0",
         "orientation": "v",
         "showlegend": true,
         "textposition": "auto",
         "type": "bar",
         "x": [
          "Embarked",
          "Age",
          "Cabin"
         ],
         "xaxis": "x",
         "y": {
          "bdata": "AgCxAK8C",
          "dtype": "i2"
         },
         "yaxis": "y"
        }
       ],
       "layout": {
        "barmode": "relative",
        "legend": {
         "title": {
          "text": "variable"
         },
         "tracegroupgap": 0
        },
        "template": {
         "data": {
          "bar": [
           {
            "error_x": {
             "color": "#2a3f5f"
            },
            "error_y": {
             "color": "#2a3f5f"
            },
            "marker": {
             "line": {
              "color": "#E5ECF6",
              "width": 0.5
             },
             "pattern": {
              "fillmode": "overlay",
              "size": 10,
              "solidity": 0.2
             }
            },
            "type": "bar"
           }
          ],
          "barpolar": [
           {
            "marker": {
             "line": {
              "color": "#E5ECF6",
              "width": 0.5
             },
             "pattern": {
              "fillmode": "overlay",
              "size": 10,
              "solidity": 0.2
             }
            },
            "type": "barpolar"
           }
          ],
          "carpet": [
           {
            "aaxis": {
             "endlinecolor": "#2a3f5f",
             "gridcolor": "white",
             "linecolor": "white",
             "minorgridcolor": "white",
             "startlinecolor": "#2a3f5f"
            },
            "baxis": {
             "endlinecolor": "#2a3f5f",
             "gridcolor": "white",
             "linecolor": "white",
             "minorgridcolor": "white",
             "startlinecolor": "#2a3f5f"
            },
            "type": "carpet"
           }
          ],
          "choropleth": [
           {
            "colorbar": {
             "outlinewidth": 0,
             "ticks": ""
            },
            "type": "choropleth"
           }
          ],
          "contour": [
           {
            "colorbar": {
             "outlinewidth": 0,
             "ticks": ""
            },
            "colorscale": [
             [
              0,
              "#0d0887"
             ],
             [
              0.1111111111111111,
              "#46039f"
             ],
             [
              0.2222222222222222,
              "#7201a8"
             ],
             [
              0.3333333333333333,
              "#9c179e"
             ],
             [
              0.4444444444444444,
              "#bd3786"
             ],
             [
              0.5555555555555556,
              "#d8576b"
             ],
             [
              0.6666666666666666,
              "#ed7953"
             ],
             [
              0.7777777777777778,
              "#fb9f3a"
             ],
             [
              0.8888888888888888,
              "#fdca26"
             ],
             [
              1,
              "#f0f921"
             ]
            ],
            "type": "contour"
           }
          ],
          "contourcarpet": [
           {
            "colorbar": {
             "outlinewidth": 0,
             "ticks": ""
            },
            "type": "contourcarpet"
           }
          ],
          "heatmap": [
           {
            "colorbar": {
             "outlinewidth": 0,
             "ticks": ""
            },
            "colorscale": [
             [
              0,
              "#0d0887"
             ],
             [
              0.1111111111111111,
              "#46039f"
             ],
             [
              0.2222222222222222,
              "#7201a8"
             ],
             [
              0.3333333333333333,
              "#9c179e"
             ],
             [
              0.4444444444444444,
              "#bd3786"
             ],
             [
              0.5555555555555556,
              "#d8576b"
             ],
             [
              0.6666666666666666,
              "#ed7953"
             ],
             [
              0.7777777777777778,
              "#fb9f3a"
             ],
             [
              0.8888888888888888,
              "#fdca26"
             ],
             [
              1,
              "#f0f921"
             ]
            ],
            "type": "heatmap"
           }
          ],
          "histogram": [
           {
            "marker": {
             "pattern": {
              "fillmode": "overlay",
              "size": 10,
              "solidity": 0.2
             }
            },
            "type": "histogram"
           }
          ],
          "histogram2d": [
           {
            "colorbar": {
             "outlinewidth": 0,
             "ticks": ""
            },
            "colorscale": [
             [
              0,
              "#0d0887"
             ],
             [
              0.1111111111111111,
              "#46039f"
             ],
             [
              0.2222222222222222,
              "#7201a8"
             ],
             [
              0.3333333333333333,
              "#9c179e"
             ],
             [
              0.4444444444444444,
              "#bd3786"
             ],
             [
              0.5555555555555556,
              "#d8576b"
             ],
             [
              0.6666666666666666,
              "#ed7953"
             ],
             [
              0.7777777777777778,
              "#fb9f3a"
             ],
             [
              0.8888888888888888,
              "#fdca26"
             ],
             [
              1,
              "#f0f921"
             ]
            ],
            "type": "histogram2d"
           }
          ],
          "histogram2dcontour": [
           {
            "colorbar": {
             "outlinewidth": 0,
             "ticks": ""
            },
            "colorscale": [
             [
              0,
              "#0d0887"
             ],
             [
              0.1111111111111111,
              "#46039f"
             ],
             [
              0.2222222222222222,
              "#7201a8"
             ],
             [
              0.3333333333333333,
              "#9c179e"
             ],
             [
              0.4444444444444444,
              "#bd3786"
             ],
             [
              0.5555555555555556,
              "#d8576b"
             ],
             [
              0.6666666666666666,
              "#ed7953"
             ],
             [
              0.7777777777777778,
              "#fb9f3a"
             ],
             [
              0.8888888888888888,
              "#fdca26"
             ],
             [
              1,
              "#f0f921"
             ]
            ],
            "type": "histogram2dcontour"
           }
          ],
          "mesh3d": [
           {
            "colorbar": {
             "outlinewidth": 0,
             "ticks": ""
            },
            "type": "mesh3d"
           }
          ],
          "parcoords": [
           {
            "line": {
             "colorbar": {
              "outlinewidth": 0,
              "ticks": ""
             }
            },
            "type": "parcoords"
           }
          ],
          "pie": [
           {
            "automargin": true,
            "type": "pie"
           }
          ],
          "scatter": [
           {
            "fillpattern": {
             "fillmode": "overlay",
             "size": 10,
             "solidity": 0.2
            },
            "type": "scatter"
           }
          ],
          "scatter3d": [
           {
            "line": {
             "colorbar": {
              "outlinewidth": 0,
              "ticks": ""
             }
            },
            "marker": {
             "colorbar": {
              "outlinewidth": 0,
              "ticks": ""
             }
            },
            "type": "scatter3d"
           }
          ],
          "scattercarpet": [
           {
            "marker": {
             "colorbar": {
              "outlinewidth": 0,
              "ticks": ""
             }
            },
            "type": "scattercarpet"
           }
          ],
          "scattergeo": [
           {
            "marker": {
             "colorbar": {
              "outlinewidth": 0,
              "ticks": ""
             }
            },
            "type": "scattergeo"
           }
          ],
          "scattergl": [
           {
            "marker": {
             "colorbar": {
              "outlinewidth": 0,
              "ticks": ""
             }
            },
            "type": "scattergl"
           }
          ],
          "scattermap": [
           {
            "marker": {
             "colorbar": {
              "outlinewidth": 0,
              "ticks": ""
             }
            },
            "type": "scattermap"
           }
          ],
          "scattermapbox": [
           {
            "marker": {
             "colorbar": {
              "outlinewidth": 0,
              "ticks": ""
             }
            },
            "type": "scattermapbox"
           }
          ],
          "scatterpolar": [
           {
            "marker": {
             "colorbar": {
              "outlinewidth": 0,
              "ticks": ""
             }
            },
            "type": "scatterpolar"
           }
          ],
          "scatterpolargl": [
           {
            "marker": {
             "colorbar": {
              "outlinewidth": 0,
              "ticks": ""
             }
            },
            "type": "scatterpolargl"
           }
          ],
          "scatterternary": [
           {
            "marker": {
             "colorbar": {
              "outlinewidth": 0,
              "ticks": ""
             }
            },
            "type": "scatterternary"
           }
          ],
          "surface": [
           {
            "colorbar": {
             "outlinewidth": 0,
             "ticks": ""
            },
            "colorscale": [
             [
              0,
              "#0d0887"
             ],
             [
              0.1111111111111111,
              "#46039f"
             ],
             [
              0.2222222222222222,
              "#7201a8"
             ],
             [
              0.3333333333333333,
              "#9c179e"
             ],
             [
              0.4444444444444444,
              "#bd3786"
             ],
             [
              0.5555555555555556,
              "#d8576b"
             ],
             [
              0.6666666666666666,
              "#ed7953"
             ],
             [
              0.7777777777777778,
              "#fb9f3a"
             ],
             [
              0.8888888888888888,
              "#fdca26"
             ],
             [
              1,
              "#f0f921"
             ]
            ],
            "type": "surface"
           }
          ],
          "table": [
           {
            "cells": {
             "fill": {
              "color": "#EBF0F8"
             },
             "line": {
              "color": "white"
             }
            },
            "header": {
             "fill": {
              "color": "#C8D4E3"
             },
             "line": {
              "color": "white"
             }
            },
            "type": "table"
           }
          ]
         },
         "layout": {
          "annotationdefaults": {
           "arrowcolor": "#2a3f5f",
           "arrowhead": 0,
           "arrowwidth": 1
          },
          "autotypenumbers": "strict",
          "coloraxis": {
           "colorbar": {
            "outlinewidth": 0,
            "ticks": ""
           }
          },
          "colorscale": {
           "diverging": [
            [
             0,
             "#8e0152"
            ],
            [
             0.1,
             "#c51b7d"
            ],
            [
             0.2,
             "#de77ae"
            ],
            [
             0.3,
             "#f1b6da"
            ],
            [
             0.4,
             "#fde0ef"
            ],
            [
             0.5,
             "#f7f7f7"
            ],
            [
             0.6,
             "#e6f5d0"
            ],
            [
             0.7,
             "#b8e186"
            ],
            [
             0.8,
             "#7fbc41"
            ],
            [
             0.9,
             "#4d9221"
            ],
            [
             1,
             "#276419"
            ]
           ],
           "sequential": [
            [
             0,
             "#0d0887"
            ],
            [
             0.1111111111111111,
             "#46039f"
            ],
            [
             0.2222222222222222,
             "#7201a8"
            ],
            [
             0.3333333333333333,
             "#9c179e"
            ],
            [
             0.4444444444444444,
             "#bd3786"
            ],
            [
             0.5555555555555556,
             "#d8576b"
            ],
            [
             0.6666666666666666,
             "#ed7953"
            ],
            [
             0.7777777777777778,
             "#fb9f3a"
            ],
            [
             0.8888888888888888,
             "#fdca26"
            ],
            [
             1,
             "#f0f921"
            ]
           ],
           "sequentialminus": [
            [
             0,
             "#0d0887"
            ],
            [
             0.1111111111111111,
             "#46039f"
            ],
            [
             0.2222222222222222,
             "#7201a8"
            ],
            [
             0.3333333333333333,
             "#9c179e"
            ],
            [
             0.4444444444444444,
             "#bd3786"
            ],
            [
             0.5555555555555556,
             "#d8576b"
            ],
            [
             0.6666666666666666,
             "#ed7953"
            ],
            [
             0.7777777777777778,
             "#fb9f3a"
            ],
            [
             0.8888888888888888,
             "#fdca26"
            ],
            [
             1,
             "#f0f921"
            ]
           ]
          },
          "colorway": [
           "#636efa",
           "#EF553B",
           "#00cc96",
           "#ab63fa",
           "#FFA15A",
           "#19d3f3",
           "#FF6692",
           "#B6E880",
           "#FF97FF",
           "#FECB52"
          ],
          "font": {
           "color": "#2a3f5f"
          },
          "geo": {
           "bgcolor": "white",
           "lakecolor": "white",
           "landcolor": "#E5ECF6",
           "showlakes": true,
           "showland": true,
           "subunitcolor": "white"
          },
          "hoverlabel": {
           "align": "left"
          },
          "hovermode": "closest",
          "mapbox": {
           "style": "light"
          },
          "paper_bgcolor": "white",
          "plot_bgcolor": "#E5ECF6",
          "polar": {
           "angularaxis": {
            "gridcolor": "white",
            "linecolor": "white",
            "ticks": ""
           },
           "bgcolor": "#E5ECF6",
           "radialaxis": {
            "gridcolor": "white",
            "linecolor": "white",
            "ticks": ""
           }
          },
          "scene": {
           "xaxis": {
            "backgroundcolor": "#E5ECF6",
            "gridcolor": "white",
            "gridwidth": 2,
            "linecolor": "white",
            "showbackground": true,
            "ticks": "",
            "zerolinecolor": "white"
           },
           "yaxis": {
            "backgroundcolor": "#E5ECF6",
            "gridcolor": "white",
            "gridwidth": 2,
            "linecolor": "white",
            "showbackground": true,
            "ticks": "",
            "zerolinecolor": "white"
           },
           "zaxis": {
            "backgroundcolor": "#E5ECF6",
            "gridcolor": "white",
            "gridwidth": 2,
            "linecolor": "white",
            "showbackground": true,
            "ticks": "",
            "zerolinecolor": "white"
           }
          },
          "shapedefaults": {
           "line": {
            "color": "#2a3f5f"
           }
          },
          "ternary": {
           "aaxis": {
            "gridcolor": "white",
            "linecolor": "white",
            "ticks": ""
           },
           "baxis": {
            "gridcolor": "white",
            "linecolor": "white",
            "ticks": ""
           },
           "bgcolor": "#E5ECF6",
           "caxis": {
            "gridcolor": "white",
            "linecolor": "white",
            "ticks": ""
           }
          },
          "title": {
           "x": 0.05
          },
          "xaxis": {
           "automargin": true,
           "gridcolor": "white",
           "linecolor": "white",
           "ticks": "",
           "title": {
            "standoff": 15
           },
           "zerolinecolor": "white",
           "zerolinewidth": 2
          },
          "yaxis": {
           "automargin": true,
           "gridcolor": "white",
           "linecolor": "white",
           "ticks": "",
           "title": {
            "standoff": 15
           },
           "zerolinecolor": "white",
           "zerolinewidth": 2
          }
         }
        },
        "title": {
         "text": "Valeurs manquantes par variable"
        },
        "xaxis": {
         "anchor": "y",
         "domain": [
          0,
          1
         ],
         "title": {
          "text": "Variables"
         }
        },
        "yaxis": {
         "anchor": "x",
         "domain": [
          0,
          1
         ],
         "title": {
          "text": "Valeurs manquantes"
         }
        }
       }
      }
     },
     "metadata": {},
     "output_type": "display_data"
    }
   ],
   "source": [
    "# ===============================\n",
    "# 3. Analyse des valeurs manquantes\n",
    "# ===============================\n",
    "print(\"Étape 3 : Analyse des valeurs manquantes\")\n",
    "\n",
    "missing = data.isnull().sum()\n",
    "missing = missing[missing > 0]\n",
    "print(missing)\n",
    "\n",
    "# Visualisation interactive des valeurs manquantes\n",
    "import plotly.express as px\n",
    "\n",
    "fig_missing = px.bar(missing.sort_values(),\n",
    "                     title=\"Valeurs manquantes par variable\",\n",
    "                     labels={\"value\": \"Nombre de valeurs manquantes\", \"index\": \"Variables\"})\n",
    "fig_missing.update_layout(xaxis_title=\"Variables\", yaxis_title=\"Valeurs manquantes\")\n",
    "fig_missing.show()\n"
   ]
  },
  {
   "cell_type": "markdown",
   "id": "6c0a4ca1",
   "metadata": {},
   "source": [
    "#  Étape 4 : Feature\n",
    "\n",
    "<!-- Je  crées de nouvelles variables pour enrichir le jeu de données et aider la modélisation :\n",
    "\n",
    "Family : taille de la famille (SibSp + Parch + 1).\n",
    "\n",
    "FamilySize : catégorisation de la taille (Solo, Small, Large).\n",
    "\n",
    "Title : extraction du titre (Mr, Mrs, Miss, etc.) depuis la colonne Name.\n",
    "\n",
    "Tu regroupes les titres rares en une seule catégorie \"Rare\".\n",
    "\n",
    "Age_bin : découpage de l’âge en classes d’âge.\n",
    "\n",
    "Fare_bin : découpage du tarif en quartiles.\n",
    "\n",
    "IsAlone : variable binaire indiquant si la personne est seule ou pas. -->"
   ]
  },
  {
   "cell_type": "code",
   "execution_count": 27,
   "id": "e9a73f0f",
   "metadata": {},
   "outputs": [
    {
     "name": "stdout",
     "output_type": "stream",
     "text": [
      "Étape 4 : Création de nouvelles variables\n",
      "Nouvelles variables créées\n"
     ]
    }
   ],
   "source": [
    "\n",
    "# 4. Feature\n",
    "\n",
    "print(\"Étape 4 : Création de nouvelles variables\")\n",
    "\n",
    "# Taille de la famille\n",
    "data[\"Family\"] = data[\"SibSp\"] + data[\"Parch\"] + 1\n",
    "\n",
    "# Taille de famille catégorisée\n",
    "data[\"FamilySize\"] = data[\"Family\"].apply(lambda x: 'Solo' if x == 1 else 'Small' if x <= 4 else 'Large')\n",
    "\n",
    "# Extraction du titre\n",
    "def get_title(name):\n",
    "    return name.split(\",\")[1].split(\".\")[0].strip()\n",
    "\n",
    "data[\"Title\"] = data[\"Name\"].apply(get_title)\n",
    "\n",
    "# Regroupement des titres rares\n",
    "rare_titles = data[\"Title\"].value_counts()[data[\"Title\"].value_counts() < 5].index.tolist()\n",
    "data[\"Title\"] = data[\"Title\"].replace(rare_titles, \"Rare\")\n",
    "\n",
    "#  âge et tarif\n",
    "data[\"Age_bin\"] = pd.cut(data[\"Age\"], bins=[0, 12, 20, 40, 60, 80],\n",
    "                         labels=['Child', 'Teen', 'Adult', 'Middle', 'Senior'])\n",
    "\n",
    "data[\"Fare_bin\"] = pd.qcut(data[\"Fare\"], q=4, labels=['Low', 'Medium', 'High', 'Very_High'])\n",
    "\n",
    "# Est seul ?\n",
    "data[\"IsAlone\"] = (data[\"Family\"] == 1).astype(int)\n",
    "\n",
    "print(\"Nouvelles variables créées\")\n",
    "\n",
    "\n"
   ]
  },
  {
   "cell_type": "code",
   "execution_count": 28,
   "id": "91b30ed1",
   "metadata": {},
   "outputs": [
    {
     "data": {
      "application/vnd.plotly.v1+json": {
       "config": {
        "plotlyServerURL": "https://plot.ly"
       },
       "data": [
        {
         "alignmentgroup": "True",
         "bingroup": "x",
         "hovertemplate": "Survived=0<br>FamilySize=%{x}<br>count=%{y}<extra></extra>",
         "legendgroup": "0",
         "marker": {
          "color": "#636efa",
          "pattern": {
           "shape": ""
          }
         },
         "name": "0",
         "offsetgroup": "0",
         "orientation": "v",
         "showlegend": true,
         "type": "histogram",
         "x": [
          "Small",
          "Solo",
          "Solo",
          "Solo",
          "Large",
          "Solo",
          "Large",
          "Solo",
          "Large",
          "Small",
          "Solo",
          "Large",
          "Solo",
          "Large",
          "Solo",
          "Solo",
          "Solo",
          "Small",
          "Small",
          "Solo",
          "Small",
          "Small",
          "Small",
          "Solo",
          "Solo",
          "Small",
          "Small",
          "Small",
          "Large",
          "Solo",
          "Small",
          "Solo",
          "Large",
          "Solo",
          "Small",
          "Large",
          "Solo",
          "Solo",
          "Small",
          "Solo",
          "Large",
          "Solo",
          "Small",
          "Solo",
          "Solo",
          "Solo",
          "Solo",
          "Solo",
          "Large",
          "Solo",
          "Solo",
          "Solo",
          "Solo",
          "Small",
          "Small",
          "Solo",
          "Solo",
          "Solo",
          "Small",
          "Solo",
          "Solo",
          "Small",
          "Solo",
          "Small",
          "Solo",
          "Solo",
          "Solo",
          "Small",
          "Solo",
          "Small",
          "Solo",
          "Solo",
          "Solo",
          "Small",
          "Small",
          "Large",
          "Small",
          "Solo",
          "Small",
          "Small",
          "Solo",
          "Solo",
          "Solo",
          "Solo",
          "Small",
          "Solo",
          "Solo",
          "Small",
          "Solo",
          "Solo",
          "Small",
          "Solo",
          "Solo",
          "Small",
          "Large",
          "Small",
          "Solo",
          "Solo",
          "Solo",
          "Small",
          "Solo",
          "Small",
          "Solo",
          "Solo",
          "Large",
          "Small",
          "Solo",
          "Solo",
          "Large",
          "Large",
          "Solo",
          "Solo",
          "Solo",
          "Large",
          "Solo",
          "Solo",
          "Small",
          "Large",
          "Solo",
          "Solo",
          "Solo",
          "Large",
          "Solo",
          "Large",
          "Solo",
          "Small",
          "Solo",
          "Solo",
          "Solo",
          "Small",
          "Solo",
          "Solo",
          "Large",
          "Solo",
          "Solo",
          "Small",
          "Small",
          "Solo",
          "Solo",
          "Solo",
          "Small",
          "Small",
          "Solo",
          "Solo",
          "Solo",
          "Solo",
          "Solo",
          "Solo",
          "Solo",
          "Large",
          "Solo",
          "Solo",
          "Solo",
          "Solo",
          "Small",
          "Solo",
          "Solo",
          "Small",
          "Solo",
          "Solo",
          "Solo",
          "Small",
          "Solo",
          "Small",
          "Solo",
          "Small",
          "Solo",
          "Small",
          "Small",
          "Solo",
          "Small",
          "Solo",
          "Solo",
          "Solo",
          "Large",
          "Solo",
          "Small",
          "Solo",
          "Solo",
          "Large",
          "Solo",
          "Solo",
          "Solo",
          "Solo",
          "Solo",
          "Solo",
          "Solo",
          "Solo",
          "Solo",
          "Solo",
          "Solo",
          "Small",
          "Solo",
          "Solo",
          "Small",
          "Small",
          "Solo",
          "Small",
          "Solo",
          "Solo",
          "Solo",
          "Large",
          "Solo",
          "Solo",
          "Small",
          "Small",
          "Solo",
          "Small",
          "Solo",
          "Solo",
          "Solo",
          "Solo",
          "Solo",
          "Solo",
          "Solo",
          "Small",
          "Small",
          "Solo",
          "Solo",
          "Solo",
          "Large",
          "Small",
          "Small",
          "Solo",
          "Small",
          "Solo",
          "Small",
          "Solo",
          "Solo",
          "Large",
          "Small",
          "Solo",
          "Solo",
          "Solo",
          "Solo",
          "Solo",
          "Large",
          "Solo",
          "Small",
          "Solo",
          "Solo",
          "Solo",
          "Solo",
          "Solo",
          "Small",
          "Small",
          "Solo",
          "Small",
          "Solo",
          "Solo",
          "Large",
          "Solo",
          "Solo",
          "Solo",
          "Solo",
          "Solo",
          "Small",
          "Solo",
          "Solo",
          "Solo",
          "Small",
          "Small",
          "Solo",
          "Solo",
          "Solo",
          "Small",
          "Large",
          "Large",
          "Solo",
          "Solo",
          "Small",
          "Small",
          "Small",
          "Solo",
          "Solo",
          "Solo",
          "Solo",
          "Solo",
          "Solo",
          "Solo",
          "Solo",
          "Solo",
          "Solo",
          "Solo",
          "Solo",
          "Solo",
          "Solo",
          "Solo",
          "Solo",
          "Small",
          "Small",
          "Solo",
          "Large",
          "Solo",
          "Solo",
          "Large",
          "Solo",
          "Solo",
          "Small",
          "Solo",
          "Solo",
          "Solo",
          "Solo",
          "Solo",
          "Solo",
          "Small",
          "Solo",
          "Solo",
          "Solo",
          "Solo",
          "Solo",
          "Small",
          "Solo",
          "Solo",
          "Solo",
          "Solo",
          "Solo",
          "Solo",
          "Solo",
          "Solo",
          "Solo",
          "Solo",
          "Solo",
          "Solo",
          "Small",
          "Solo",
          "Small",
          "Solo",
          "Solo",
          "Solo",
          "Large",
          "Large",
          "Small",
          "Solo",
          "Small",
          "Solo",
          "Solo",
          "Solo",
          "Solo",
          "Solo",
          "Solo",
          "Solo",
          "Solo",
          "Solo",
          "Small",
          "Solo",
          "Large",
          "Solo",
          "Solo",
          "Solo",
          "Small",
          "Solo",
          "Solo",
          "Solo",
          "Solo",
          "Solo",
          "Solo",
          "Solo",
          "Solo",
          "Small",
          "Small",
          "Small",
          "Solo",
          "Solo",
          "Solo",
          "Solo",
          "Solo",
          "Small",
          "Solo",
          "Large",
          "Solo",
          "Solo",
          "Solo",
          "Small",
          "Small",
          "Solo",
          "Small",
          "Solo",
          "Solo",
          "Solo",
          "Solo",
          "Solo",
          "Solo",
          "Solo",
          "Solo",
          "Large",
          "Solo",
          "Small",
          "Large",
          "Small",
          "Solo",
          "Large",
          "Solo",
          "Solo",
          "Solo",
          "Solo",
          "Solo",
          "Small",
          "Solo",
          "Small",
          "Solo",
          "Small",
          "Solo",
          "Solo",
          "Solo",
          "Small",
          "Solo",
          "Solo",
          "Solo",
          "Small",
          "Solo",
          "Solo",
          "Solo",
          "Solo",
          "Large",
          "Solo",
          "Solo",
          "Large",
          "Small",
          "Small",
          "Large",
          "Solo",
          "Solo",
          "Solo",
          "Solo",
          "Solo",
          "Solo",
          "Small",
          "Solo",
          "Small",
          "Solo",
          "Small",
          "Solo",
          "Solo",
          "Solo",
          "Solo",
          "Solo",
          "Solo",
          "Solo",
          "Small",
          "Solo",
          "Solo",
          "Solo",
          "Small",
          "Small",
          "Solo",
          "Solo",
          "Solo",
          "Solo",
          "Solo",
          "Large",
          "Solo",
          "Solo",
          "Small",
          "Small",
          "Small",
          "Small",
          "Small",
          "Solo",
          "Solo",
          "Solo",
          "Solo",
          "Solo",
          "Solo",
          "Solo",
          "Solo",
          "Solo",
          "Solo",
          "Solo",
          "Small",
          "Solo",
          "Solo",
          "Solo",
          "Solo",
          "Solo",
          "Solo",
          "Solo",
          "Solo",
          "Solo",
          "Small",
          "Solo",
          "Solo",
          "Large",
          "Solo",
          "Solo",
          "Solo",
          "Large",
          "Solo",
          "Solo",
          "Solo",
          "Solo",
          "Small",
          "Solo",
          "Solo",
          "Solo",
          "Solo",
          "Solo",
          "Solo",
          "Solo",
          "Solo",
          "Large",
          "Solo",
          "Solo",
          "Solo",
          "Small",
          "Solo",
          "Large",
          "Solo",
          "Large",
          "Solo",
          "Solo",
          "Solo",
          "Solo",
          "Solo",
          "Solo",
          "Solo",
          "Solo",
          "Solo",
          "Solo",
          "Solo",
          "Solo",
          "Large",
          "Solo",
          "Small",
          "Large",
          "Solo",
          "Small",
          "Small",
          "Solo",
          "Small",
          "Small",
          "Large",
          "Solo",
          "Solo",
          "Solo",
          "Solo",
          "Solo",
          "Solo",
          "Solo",
          "Solo",
          "Solo",
          "Solo",
          "Solo",
          "Solo",
          "Solo",
          "Large",
          "Solo",
          "Small",
          "Solo"
         ],
         "xaxis": "x",
         "yaxis": "y"
        },
        {
         "alignmentgroup": "True",
         "bingroup": "x",
         "hovertemplate": "Survived=1<br>FamilySize=%{x}<br>count=%{y}<extra></extra>",
         "legendgroup": "1",
         "marker": {
          "color": "#EF553B",
          "pattern": {
           "shape": ""
          }
         },
         "name": "1",
         "offsetgroup": "1",
         "orientation": "v",
         "showlegend": true,
         "type": "histogram",
         "x": [
          "Small",
          "Solo",
          "Small",
          "Small",
          "Small",
          "Small",
          "Solo",
          "Solo",
          "Solo",
          "Solo",
          "Solo",
          "Solo",
          "Solo",
          "Large",
          "Solo",
          "Small",
          "Solo",
          "Solo",
          "Small",
          "Small",
          "Solo",
          "Solo",
          "Small",
          "Small",
          "Solo",
          "Solo",
          "Small",
          "Solo",
          "Small",
          "Solo",
          "Large",
          "Solo",
          "Small",
          "Solo",
          "Solo",
          "Solo",
          "Solo",
          "Small",
          "Large",
          "Small",
          "Small",
          "Solo",
          "Solo",
          "Small",
          "Solo",
          "Small",
          "Solo",
          "Small",
          "Small",
          "Small",
          "Solo",
          "Small",
          "Solo",
          "Small",
          "Solo",
          "Solo",
          "Small",
          "Small",
          "Small",
          "Small",
          "Small",
          "Small",
          "Solo",
          "Solo",
          "Small",
          "Small",
          "Solo",
          "Solo",
          "Solo",
          "Solo",
          "Solo",
          "Solo",
          "Solo",
          "Solo",
          "Small",
          "Solo",
          "Solo",
          "Solo",
          "Small",
          "Solo",
          "Small",
          "Large",
          "Small",
          "Small",
          "Small",
          "Small",
          "Small",
          "Solo",
          "Solo",
          "Solo",
          "Small",
          "Large",
          "Small",
          "Small",
          "Solo",
          "Solo",
          "Small",
          "Solo",
          "Small",
          "Small",
          "Solo",
          "Solo",
          "Solo",
          "Solo",
          "Solo",
          "Small",
          "Solo",
          "Small",
          "Solo",
          "Small",
          "Solo",
          "Small",
          "Solo",
          "Small",
          "Solo",
          "Solo",
          "Large",
          "Solo",
          "Small",
          "Small",
          "Small",
          "Solo",
          "Small",
          "Solo",
          "Solo",
          "Small",
          "Small",
          "Small",
          "Small",
          "Solo",
          "Solo",
          "Small",
          "Large",
          "Solo",
          "Solo",
          "Small",
          "Small",
          "Small",
          "Solo",
          "Solo",
          "Small",
          "Solo",
          "Solo",
          "Solo",
          "Small",
          "Small",
          "Solo",
          "Solo",
          "Small",
          "Small",
          "Solo",
          "Solo",
          "Small",
          "Solo",
          "Small",
          "Small",
          "Solo",
          "Solo",
          "Small",
          "Small",
          "Solo",
          "Small",
          "Small",
          "Small",
          "Solo",
          "Solo",
          "Solo",
          "Small",
          "Small",
          "Small",
          "Large",
          "Small",
          "Solo",
          "Solo",
          "Small",
          "Small",
          "Solo",
          "Small",
          "Solo",
          "Small",
          "Solo",
          "Small",
          "Solo",
          "Solo",
          "Small",
          "Small",
          "Solo",
          "Small",
          "Solo",
          "Small",
          "Small",
          "Small",
          "Small",
          "Solo",
          "Small",
          "Solo",
          "Solo",
          "Solo",
          "Solo",
          "Small",
          "Solo",
          "Small",
          "Solo",
          "Small",
          "Solo",
          "Small",
          "Small",
          "Small",
          "Solo",
          "Small",
          "Small",
          "Small",
          "Small",
          "Solo",
          "Small",
          "Small",
          "Solo",
          "Solo",
          "Small",
          "Small",
          "Small",
          "Solo",
          "Solo",
          "Small",
          "Solo",
          "Solo",
          "Solo",
          "Small",
          "Solo",
          "Small",
          "Small",
          "Small",
          "Small",
          "Small",
          "Solo",
          "Small",
          "Small",
          "Solo",
          "Solo",
          "Small",
          "Solo",
          "Small",
          "Small",
          "Small",
          "Small",
          "Small",
          "Solo",
          "Solo",
          "Solo",
          "Solo",
          "Solo",
          "Solo",
          "Small",
          "Small",
          "Solo",
          "Solo",
          "Small",
          "Solo",
          "Small",
          "Small",
          "Small",
          "Small",
          "Solo",
          "Solo",
          "Small",
          "Solo",
          "Small",
          "Small",
          "Small",
          "Solo",
          "Solo",
          "Small",
          "Solo",
          "Solo",
          "Solo",
          "Solo",
          "Small",
          "Solo",
          "Small",
          "Solo",
          "Solo",
          "Small",
          "Small",
          "Small",
          "Solo",
          "Solo",
          "Solo",
          "Solo",
          "Large",
          "Solo",
          "Solo",
          "Small",
          "Small",
          "Small",
          "Small",
          "Solo",
          "Solo",
          "Small",
          "Small",
          "Large",
          "Solo",
          "Small",
          "Solo",
          "Small",
          "Solo",
          "Small",
          "Solo",
          "Solo",
          "Small",
          "Small",
          "Small",
          "Solo",
          "Small",
          "Small",
          "Solo",
          "Small",
          "Small",
          "Solo",
          "Solo",
          "Small",
          "Small",
          "Small",
          "Solo",
          "Solo",
          "Solo",
          "Small",
          "Small",
          "Small",
          "Small",
          "Solo",
          "Small",
          "Solo",
          "Solo",
          "Small",
          "Small",
          "Small",
          "Small",
          "Solo",
          "Small",
          "Small",
          "Solo",
          "Solo"
         ],
         "xaxis": "x",
         "yaxis": "y"
        }
       ],
       "layout": {
        "barmode": "group",
        "legend": {
         "title": {
          "text": "Survived"
         },
         "tracegroupgap": 0
        },
        "template": {
         "data": {
          "bar": [
           {
            "error_x": {
             "color": "#2a3f5f"
            },
            "error_y": {
             "color": "#2a3f5f"
            },
            "marker": {
             "line": {
              "color": "#E5ECF6",
              "width": 0.5
             },
             "pattern": {
              "fillmode": "overlay",
              "size": 10,
              "solidity": 0.2
             }
            },
            "type": "bar"
           }
          ],
          "barpolar": [
           {
            "marker": {
             "line": {
              "color": "#E5ECF6",
              "width": 0.5
             },
             "pattern": {
              "fillmode": "overlay",
              "size": 10,
              "solidity": 0.2
             }
            },
            "type": "barpolar"
           }
          ],
          "carpet": [
           {
            "aaxis": {
             "endlinecolor": "#2a3f5f",
             "gridcolor": "white",
             "linecolor": "white",
             "minorgridcolor": "white",
             "startlinecolor": "#2a3f5f"
            },
            "baxis": {
             "endlinecolor": "#2a3f5f",
             "gridcolor": "white",
             "linecolor": "white",
             "minorgridcolor": "white",
             "startlinecolor": "#2a3f5f"
            },
            "type": "carpet"
           }
          ],
          "choropleth": [
           {
            "colorbar": {
             "outlinewidth": 0,
             "ticks": ""
            },
            "type": "choropleth"
           }
          ],
          "contour": [
           {
            "colorbar": {
             "outlinewidth": 0,
             "ticks": ""
            },
            "colorscale": [
             [
              0,
              "#0d0887"
             ],
             [
              0.1111111111111111,
              "#46039f"
             ],
             [
              0.2222222222222222,
              "#7201a8"
             ],
             [
              0.3333333333333333,
              "#9c179e"
             ],
             [
              0.4444444444444444,
              "#bd3786"
             ],
             [
              0.5555555555555556,
              "#d8576b"
             ],
             [
              0.6666666666666666,
              "#ed7953"
             ],
             [
              0.7777777777777778,
              "#fb9f3a"
             ],
             [
              0.8888888888888888,
              "#fdca26"
             ],
             [
              1,
              "#f0f921"
             ]
            ],
            "type": "contour"
           }
          ],
          "contourcarpet": [
           {
            "colorbar": {
             "outlinewidth": 0,
             "ticks": ""
            },
            "type": "contourcarpet"
           }
          ],
          "heatmap": [
           {
            "colorbar": {
             "outlinewidth": 0,
             "ticks": ""
            },
            "colorscale": [
             [
              0,
              "#0d0887"
             ],
             [
              0.1111111111111111,
              "#46039f"
             ],
             [
              0.2222222222222222,
              "#7201a8"
             ],
             [
              0.3333333333333333,
              "#9c179e"
             ],
             [
              0.4444444444444444,
              "#bd3786"
             ],
             [
              0.5555555555555556,
              "#d8576b"
             ],
             [
              0.6666666666666666,
              "#ed7953"
             ],
             [
              0.7777777777777778,
              "#fb9f3a"
             ],
             [
              0.8888888888888888,
              "#fdca26"
             ],
             [
              1,
              "#f0f921"
             ]
            ],
            "type": "heatmap"
           }
          ],
          "histogram": [
           {
            "marker": {
             "pattern": {
              "fillmode": "overlay",
              "size": 10,
              "solidity": 0.2
             }
            },
            "type": "histogram"
           }
          ],
          "histogram2d": [
           {
            "colorbar": {
             "outlinewidth": 0,
             "ticks": ""
            },
            "colorscale": [
             [
              0,
              "#0d0887"
             ],
             [
              0.1111111111111111,
              "#46039f"
             ],
             [
              0.2222222222222222,
              "#7201a8"
             ],
             [
              0.3333333333333333,
              "#9c179e"
             ],
             [
              0.4444444444444444,
              "#bd3786"
             ],
             [
              0.5555555555555556,
              "#d8576b"
             ],
             [
              0.6666666666666666,
              "#ed7953"
             ],
             [
              0.7777777777777778,
              "#fb9f3a"
             ],
             [
              0.8888888888888888,
              "#fdca26"
             ],
             [
              1,
              "#f0f921"
             ]
            ],
            "type": "histogram2d"
           }
          ],
          "histogram2dcontour": [
           {
            "colorbar": {
             "outlinewidth": 0,
             "ticks": ""
            },
            "colorscale": [
             [
              0,
              "#0d0887"
             ],
             [
              0.1111111111111111,
              "#46039f"
             ],
             [
              0.2222222222222222,
              "#7201a8"
             ],
             [
              0.3333333333333333,
              "#9c179e"
             ],
             [
              0.4444444444444444,
              "#bd3786"
             ],
             [
              0.5555555555555556,
              "#d8576b"
             ],
             [
              0.6666666666666666,
              "#ed7953"
             ],
             [
              0.7777777777777778,
              "#fb9f3a"
             ],
             [
              0.8888888888888888,
              "#fdca26"
             ],
             [
              1,
              "#f0f921"
             ]
            ],
            "type": "histogram2dcontour"
           }
          ],
          "mesh3d": [
           {
            "colorbar": {
             "outlinewidth": 0,
             "ticks": ""
            },
            "type": "mesh3d"
           }
          ],
          "parcoords": [
           {
            "line": {
             "colorbar": {
              "outlinewidth": 0,
              "ticks": ""
             }
            },
            "type": "parcoords"
           }
          ],
          "pie": [
           {
            "automargin": true,
            "type": "pie"
           }
          ],
          "scatter": [
           {
            "fillpattern": {
             "fillmode": "overlay",
             "size": 10,
             "solidity": 0.2
            },
            "type": "scatter"
           }
          ],
          "scatter3d": [
           {
            "line": {
             "colorbar": {
              "outlinewidth": 0,
              "ticks": ""
             }
            },
            "marker": {
             "colorbar": {
              "outlinewidth": 0,
              "ticks": ""
             }
            },
            "type": "scatter3d"
           }
          ],
          "scattercarpet": [
           {
            "marker": {
             "colorbar": {
              "outlinewidth": 0,
              "ticks": ""
             }
            },
            "type": "scattercarpet"
           }
          ],
          "scattergeo": [
           {
            "marker": {
             "colorbar": {
              "outlinewidth": 0,
              "ticks": ""
             }
            },
            "type": "scattergeo"
           }
          ],
          "scattergl": [
           {
            "marker": {
             "colorbar": {
              "outlinewidth": 0,
              "ticks": ""
             }
            },
            "type": "scattergl"
           }
          ],
          "scattermap": [
           {
            "marker": {
             "colorbar": {
              "outlinewidth": 0,
              "ticks": ""
             }
            },
            "type": "scattermap"
           }
          ],
          "scattermapbox": [
           {
            "marker": {
             "colorbar": {
              "outlinewidth": 0,
              "ticks": ""
             }
            },
            "type": "scattermapbox"
           }
          ],
          "scatterpolar": [
           {
            "marker": {
             "colorbar": {
              "outlinewidth": 0,
              "ticks": ""
             }
            },
            "type": "scatterpolar"
           }
          ],
          "scatterpolargl": [
           {
            "marker": {
             "colorbar": {
              "outlinewidth": 0,
              "ticks": ""
             }
            },
            "type": "scatterpolargl"
           }
          ],
          "scatterternary": [
           {
            "marker": {
             "colorbar": {
              "outlinewidth": 0,
              "ticks": ""
             }
            },
            "type": "scatterternary"
           }
          ],
          "surface": [
           {
            "colorbar": {
             "outlinewidth": 0,
             "ticks": ""
            },
            "colorscale": [
             [
              0,
              "#0d0887"
             ],
             [
              0.1111111111111111,
              "#46039f"
             ],
             [
              0.2222222222222222,
              "#7201a8"
             ],
             [
              0.3333333333333333,
              "#9c179e"
             ],
             [
              0.4444444444444444,
              "#bd3786"
             ],
             [
              0.5555555555555556,
              "#d8576b"
             ],
             [
              0.6666666666666666,
              "#ed7953"
             ],
             [
              0.7777777777777778,
              "#fb9f3a"
             ],
             [
              0.8888888888888888,
              "#fdca26"
             ],
             [
              1,
              "#f0f921"
             ]
            ],
            "type": "surface"
           }
          ],
          "table": [
           {
            "cells": {
             "fill": {
              "color": "#EBF0F8"
             },
             "line": {
              "color": "white"
             }
            },
            "header": {
             "fill": {
              "color": "#C8D4E3"
             },
             "line": {
              "color": "white"
             }
            },
            "type": "table"
           }
          ]
         },
         "layout": {
          "annotationdefaults": {
           "arrowcolor": "#2a3f5f",
           "arrowhead": 0,
           "arrowwidth": 1
          },
          "autotypenumbers": "strict",
          "coloraxis": {
           "colorbar": {
            "outlinewidth": 0,
            "ticks": ""
           }
          },
          "colorscale": {
           "diverging": [
            [
             0,
             "#8e0152"
            ],
            [
             0.1,
             "#c51b7d"
            ],
            [
             0.2,
             "#de77ae"
            ],
            [
             0.3,
             "#f1b6da"
            ],
            [
             0.4,
             "#fde0ef"
            ],
            [
             0.5,
             "#f7f7f7"
            ],
            [
             0.6,
             "#e6f5d0"
            ],
            [
             0.7,
             "#b8e186"
            ],
            [
             0.8,
             "#7fbc41"
            ],
            [
             0.9,
             "#4d9221"
            ],
            [
             1,
             "#276419"
            ]
           ],
           "sequential": [
            [
             0,
             "#0d0887"
            ],
            [
             0.1111111111111111,
             "#46039f"
            ],
            [
             0.2222222222222222,
             "#7201a8"
            ],
            [
             0.3333333333333333,
             "#9c179e"
            ],
            [
             0.4444444444444444,
             "#bd3786"
            ],
            [
             0.5555555555555556,
             "#d8576b"
            ],
            [
             0.6666666666666666,
             "#ed7953"
            ],
            [
             0.7777777777777778,
             "#fb9f3a"
            ],
            [
             0.8888888888888888,
             "#fdca26"
            ],
            [
             1,
             "#f0f921"
            ]
           ],
           "sequentialminus": [
            [
             0,
             "#0d0887"
            ],
            [
             0.1111111111111111,
             "#46039f"
            ],
            [
             0.2222222222222222,
             "#7201a8"
            ],
            [
             0.3333333333333333,
             "#9c179e"
            ],
            [
             0.4444444444444444,
             "#bd3786"
            ],
            [
             0.5555555555555556,
             "#d8576b"
            ],
            [
             0.6666666666666666,
             "#ed7953"
            ],
            [
             0.7777777777777778,
             "#fb9f3a"
            ],
            [
             0.8888888888888888,
             "#fdca26"
            ],
            [
             1,
             "#f0f921"
            ]
           ]
          },
          "colorway": [
           "#636efa",
           "#EF553B",
           "#00cc96",
           "#ab63fa",
           "#FFA15A",
           "#19d3f3",
           "#FF6692",
           "#B6E880",
           "#FF97FF",
           "#FECB52"
          ],
          "font": {
           "color": "#2a3f5f"
          },
          "geo": {
           "bgcolor": "white",
           "lakecolor": "white",
           "landcolor": "#E5ECF6",
           "showlakes": true,
           "showland": true,
           "subunitcolor": "white"
          },
          "hoverlabel": {
           "align": "left"
          },
          "hovermode": "closest",
          "mapbox": {
           "style": "light"
          },
          "paper_bgcolor": "white",
          "plot_bgcolor": "#E5ECF6",
          "polar": {
           "angularaxis": {
            "gridcolor": "white",
            "linecolor": "white",
            "ticks": ""
           },
           "bgcolor": "#E5ECF6",
           "radialaxis": {
            "gridcolor": "white",
            "linecolor": "white",
            "ticks": ""
           }
          },
          "scene": {
           "xaxis": {
            "backgroundcolor": "#E5ECF6",
            "gridcolor": "white",
            "gridwidth": 2,
            "linecolor": "white",
            "showbackground": true,
            "ticks": "",
            "zerolinecolor": "white"
           },
           "yaxis": {
            "backgroundcolor": "#E5ECF6",
            "gridcolor": "white",
            "gridwidth": 2,
            "linecolor": "white",
            "showbackground": true,
            "ticks": "",
            "zerolinecolor": "white"
           },
           "zaxis": {
            "backgroundcolor": "#E5ECF6",
            "gridcolor": "white",
            "gridwidth": 2,
            "linecolor": "white",
            "showbackground": true,
            "ticks": "",
            "zerolinecolor": "white"
           }
          },
          "shapedefaults": {
           "line": {
            "color": "#2a3f5f"
           }
          },
          "ternary": {
           "aaxis": {
            "gridcolor": "white",
            "linecolor": "white",
            "ticks": ""
           },
           "baxis": {
            "gridcolor": "white",
            "linecolor": "white",
            "ticks": ""
           },
           "bgcolor": "#E5ECF6",
           "caxis": {
            "gridcolor": "white",
            "linecolor": "white",
            "ticks": ""
           }
          },
          "title": {
           "x": 0.05
          },
          "xaxis": {
           "automargin": true,
           "gridcolor": "white",
           "linecolor": "white",
           "ticks": "",
           "title": {
            "standoff": 15
           },
           "zerolinecolor": "white",
           "zerolinewidth": 2
          },
          "yaxis": {
           "automargin": true,
           "gridcolor": "white",
           "linecolor": "white",
           "ticks": "",
           "title": {
            "standoff": 15
           },
           "zerolinecolor": "white",
           "zerolinewidth": 2
          }
         }
        },
        "title": {
         "text": "Répartition des tailles de famille selon la survie"
        },
        "xaxis": {
         "anchor": "y",
         "categoryarray": [
          "Solo",
          "Small",
          "Large"
         ],
         "categoryorder": "array",
         "domain": [
          0,
          1
         ],
         "title": {
          "text": "FamilySize"
         }
        },
        "yaxis": {
         "anchor": "x",
         "domain": [
          0,
          1
         ],
         "title": {
          "text": "count"
         }
        }
       }
      }
     },
     "metadata": {},
     "output_type": "display_data"
    },
    {
     "data": {
      "application/vnd.plotly.v1+json": {
       "config": {
        "plotlyServerURL": "https://plot.ly"
       },
       "data": [
        {
         "alignmentgroup": "True",
         "bingroup": "x",
         "hovertemplate": "Survived=0<br>Title=%{x}<br>count=%{y}<extra></extra>",
         "legendgroup": "0",
         "marker": {
          "color": "#636efa",
          "pattern": {
           "shape": ""
          }
         },
         "name": "0",
         "offsetgroup": "0",
         "orientation": "v",
         "showlegend": true,
         "type": "histogram",
         "x": [
          "Mr",
          "Mr",
          "Mr",
          "Mr",
          "Master",
          "Mr",
          "Mr",
          "Miss",
          "Master",
          "Mrs",
          "Mr",
          "Miss",
          "Mr",
          "Mr",
          "Mr",
          "Rare",
          "Mr",
          "Mr",
          "Mr",
          "Mr",
          "Miss",
          "Mrs",
          "Mrs",
          "Mr",
          "Mr",
          "Mr",
          "Mr",
          "Mrs",
          "Master",
          "Mr",
          "Mr",
          "Mr",
          "Master",
          "Mr",
          "Mr",
          "Master",
          "Mr",
          "Mr",
          "Mr",
          "Mr",
          "Miss",
          "Mr",
          "Mr",
          "Mr",
          "Mr",
          "Mr",
          "Mr",
          "Mr",
          "Mr",
          "Mr",
          "Mr",
          "Mr",
          "Mr",
          "Mr",
          "Mr",
          "Mr",
          "Mr",
          "Mr",
          "Mr",
          "Miss",
          "Mr",
          "Mr",
          "Mr",
          "Mr",
          "Mr",
          "Mr",
          "Mr",
          "Miss",
          "Mr",
          "Miss",
          "Miss",
          "Mr",
          "Mr",
          "Mr",
          "Mr",
          "Miss",
          "Mr",
          "Mr",
          "Mr",
          "Mr",
          "Mr",
          "Mr",
          "Mr",
          "Mr",
          "Mrs",
          "Mr",
          "Mr",
          "Mr",
          "Mr",
          "Mr",
          "Mrs",
          "Mr",
          "Mr",
          "Mr",
          "Miss",
          "Mr",
          "Rev",
          "Rev",
          "Mr",
          "Mr",
          "Mr",
          "Mr",
          "Mr",
          "Mr",
          "Master",
          "Mr",
          "Mr",
          "Mr",
          "Master",
          "Mrs",
          "Mr",
          "Mr",
          "Mr",
          "Master",
          "Mr",
          "Mr",
          "Mr",
          "Master",
          "Miss",
          "Mr",
          "Mr",
          "Miss",
          "Mr",
          "Master",
          "Mr",
          "Mr",
          "Mr",
          "Mr",
          "Mr",
          "Mr",
          "Miss",
          "Mr",
          "Mr",
          "Mr",
          "Mr",
          "Miss",
          "Mr",
          "Mr",
          "Mr",
          "Mr",
          "Mr",
          "Mr",
          "Mr",
          "Mr",
          "Mr",
          "Mr",
          "Mr",
          "Mr",
          "Mr",
          "Miss",
          "Mr",
          "Mr",
          "Mr",
          "Miss",
          "Mr",
          "Mr",
          "Mr",
          "Miss",
          "Mr",
          "Mr",
          "Mr",
          "Dr",
          "Miss",
          "Rev",
          "Mr",
          "Mrs",
          "Mr",
          "Mr",
          "Mrs",
          "Mr",
          "Mr",
          "Mr",
          "Miss",
          "Mr",
          "Mr",
          "Mr",
          "Mr",
          "Miss",
          "Mr",
          "Master",
          "Mr",
          "Mr",
          "Mr",
          "Mr",
          "Mr",
          "Mr",
          "Mr",
          "Miss",
          "Mr",
          "Mr",
          "Mr",
          "Miss",
          "Mr",
          "Mr",
          "Mr",
          "Mrs",
          "Mr",
          "Mr",
          "Dr",
          "Mr",
          "Mr",
          "Mr",
          "Mr",
          "Mr",
          "Mr",
          "Mr",
          "Mr",
          "Mr",
          "Mr",
          "Mr",
          "Mr",
          "Mr",
          "Mr",
          "Mr",
          "Mr",
          "Mr",
          "Mr",
          "Mr",
          "Mr",
          "Miss",
          "Mr",
          "Mr",
          "Mrs",
          "Mr",
          "Mr",
          "Mr",
          "Mr",
          "Mr",
          "Mr",
          "Miss",
          "Mr",
          "Mr",
          "Mr",
          "Mr",
          "Mr",
          "Mr",
          "Master",
          "Mr",
          "Mr",
          "Mr",
          "Miss",
          "Mr",
          "Dr",
          "Mr",
          "Miss",
          "Mr",
          "Miss",
          "Mr",
          "Mr",
          "Mr",
          "Miss",
          "Mr",
          "Mr",
          "Mr",
          "Mrs",
          "Mr",
          "Miss",
          "Mr",
          "Mr",
          "Mr",
          "Mrs",
          "Mr",
          "Mr",
          "Mr",
          "Mr",
          "Mr",
          "Miss",
          "Mr",
          "Mr",
          "Mr",
          "Mr",
          "Mr",
          "Mr",
          "Mr",
          "Mr",
          "Mr",
          "Mr",
          "Mr",
          "Mr",
          "Mr",
          "Mr",
          "Mr",
          "Mr",
          "Mr",
          "Mr",
          "Mr",
          "Mr",
          "Miss",
          "Mr",
          "Mr",
          "Mr",
          "Mr",
          "Master",
          "Mr",
          "Mr",
          "Miss",
          "Mr",
          "Mr",
          "Mr",
          "Mr",
          "Mr",
          "Mr",
          "Mr",
          "Mr",
          "Mr",
          "Mrs",
          "Mr",
          "Mr",
          "Miss",
          "Miss",
          "Miss",
          "Mr",
          "Mr",
          "Mr",
          "Mr",
          "Mr",
          "Mr",
          "Mr",
          "Mr",
          "Mr",
          "Mr",
          "Mr",
          "Mr",
          "Mr",
          "Mr",
          "Mr",
          "Mr",
          "Miss",
          "Rare",
          "Mr",
          "Miss",
          "Miss",
          "Mr",
          "Mr",
          "Mr",
          "Mr",
          "Mr",
          "Mr",
          "Mr",
          "Mr",
          "Mr",
          "Mr",
          "Mr",
          "Miss",
          "Mr",
          "Mr",
          "Mrs",
          "Mr",
          "Mr",
          "Mr",
          "Mrs",
          "Mr",
          "Mr",
          "Mr",
          "Mr",
          "Mr",
          "Mr",
          "Mr",
          "Mr",
          "Miss",
          "Mr",
          "Mr",
          "Mr",
          "Mr",
          "Mr",
          "Mr",
          "Mr",
          "Mr",
          "Mr",
          "Mrs",
          "Mr",
          "Mr",
          "Mr",
          "Mr",
          "Mrs",
          "Mr",
          "Mr",
          "Mr",
          "Mr",
          "Mr",
          "Rev",
          "Mr",
          "Mr",
          "Mr",
          "Mr",
          "Miss",
          "Mr",
          "Mr",
          "Mrs",
          "Mr",
          "Mr",
          "Miss",
          "Mr",
          "Mr",
          "Mr",
          "Mr",
          "Miss",
          "Mr",
          "Mr",
          "Mrs",
          "Mr",
          "Mr",
          "Mr",
          "Mr",
          "Mr",
          "Mr",
          "Mr",
          "Mr",
          "Mr",
          "Mr",
          "Mr",
          "Mr",
          "Mr",
          "Mr",
          "Mrs",
          "Miss",
          "Mr",
          "Mr",
          "Mr",
          "Mr",
          "Mr",
          "Mr",
          "Mr",
          "Mr",
          "Rare",
          "Mr",
          "Mr",
          "Mr",
          "Mr",
          "Miss",
          "Mr",
          "Mr",
          "Mr",
          "Mr",
          "Mr",
          "Mr",
          "Mr",
          "Mr",
          "Mr",
          "Mr",
          "Mr",
          "Mr",
          "Mr",
          "Mr",
          "Miss",
          "Mr",
          "Mr",
          "Mr",
          "Mr",
          "Mr",
          "Mrs",
          "Mr",
          "Mr",
          "Mr",
          "Mr",
          "Rare",
          "Mr",
          "Mr",
          "Mr",
          "Mr",
          "Mr",
          "Mr",
          "Mr",
          "Mr",
          "Mr",
          "Mr",
          "Mr",
          "Dr",
          "Miss",
          "Mr",
          "Mr",
          "Mr",
          "Mr",
          "Mrs",
          "Mr",
          "Mr",
          "Mr",
          "Mr",
          "Mr",
          "Mr",
          "Mr",
          "Mr",
          "Master",
          "Mr",
          "Mr",
          "Mr",
          "Miss",
          "Mr",
          "Mr",
          "Mr",
          "Mr",
          "Mrs",
          "Mr",
          "Mr",
          "Mr",
          "Miss",
          "Mr",
          "Mr",
          "Mr",
          "Mr",
          "Miss",
          "Mr",
          "Mr",
          "Miss",
          "Mr",
          "Mr",
          "Master",
          "Rare",
          "Master",
          "Mr",
          "Mr",
          "Mr",
          "Mr",
          "Mr",
          "Mr",
          "Mr",
          "Mr",
          "Mr",
          "Mr",
          "Mr",
          "Mr",
          "Mr",
          "Mr",
          "Rev",
          "Master",
          "Mr",
          "Miss",
          "Mrs",
          "Mr",
          "Mr",
          "Mr",
          "Miss",
          "Mr",
          "Mr",
          "Mr",
          "Mr",
          "Mr",
          "Mr",
          "Mr",
          "Mr",
          "Mr",
          "Mr",
          "Miss",
          "Mr",
          "Mr",
          "Mrs",
          "Rev",
          "Miss",
          "Mr"
         ],
         "xaxis": "x",
         "yaxis": "y"
        },
        {
         "alignmentgroup": "True",
         "bingroup": "x",
         "hovertemplate": "Survived=1<br>Title=%{x}<br>count=%{y}<extra></extra>",
         "legendgroup": "1",
         "marker": {
          "color": "#EF553B",
          "pattern": {
           "shape": ""
          }
         },
         "name": "1",
         "offsetgroup": "1",
         "orientation": "v",
         "showlegend": true,
         "type": "histogram",
         "x": [
          "Mrs",
          "Miss",
          "Mrs",
          "Mrs",
          "Mrs",
          "Miss",
          "Miss",
          "Mrs",
          "Mr",
          "Mrs",
          "Mr",
          "Miss",
          "Mr",
          "Mrs",
          "Miss",
          "Mrs",
          "Miss",
          "Mr",
          "Miss",
          "Miss",
          "Miss",
          "Miss",
          "Mrs",
          "Mrs",
          "Mr",
          "Miss",
          "Miss",
          "Miss",
          "Master",
          "Mrs",
          "Miss",
          "Mr",
          "Master",
          "Miss",
          "Mr",
          "Miss",
          "Miss",
          "Mrs",
          "Miss",
          "Mr",
          "Mrs",
          "Miss",
          "Mr",
          "Miss",
          "Miss",
          "Master",
          "Mr",
          "Miss",
          "Mrs",
          "Miss",
          "Miss",
          "Mrs",
          "Mr",
          "Mrs",
          "Miss",
          "Mrs",
          "Master",
          "Mrs",
          "Miss",
          "Master",
          "Miss",
          "Mrs",
          "Mr",
          "Mrs",
          "Miss",
          "Master",
          "Mrs",
          "Miss",
          "Miss",
          "Mr",
          "Mr",
          "Miss",
          "Mr",
          "Miss",
          "Miss",
          "Miss",
          "Miss",
          "Mr",
          "Mr",
          "Mr",
          "Mrs",
          "Miss",
          "Miss",
          "Miss",
          "Mrs",
          "Mr",
          "Mrs",
          "Mrs",
          "Miss",
          "Miss",
          "Mrs",
          "Master",
          "Mr",
          "Mrs",
          "Miss",
          "Mr",
          "Mrs",
          "Miss",
          "Miss",
          "Mrs",
          "Mr",
          "Mr",
          "Mr",
          "Miss",
          "Miss",
          "Mrs",
          "Mr",
          "Mrs",
          "Miss",
          "Mr",
          "Miss",
          "Master",
          "Miss",
          "Mrs",
          "Miss",
          "Miss",
          "Miss",
          "Miss",
          "Mrs",
          "Miss",
          "Mrs",
          "Miss",
          "Mrs",
          "Miss",
          "Mrs",
          "Mrs",
          "Miss",
          "Miss",
          "Mrs",
          "Miss",
          "Mr",
          "Master",
          "Miss",
          "Miss",
          "Miss",
          "Mrs",
          "Master",
          "Miss",
          "Miss",
          "Miss",
          "Mrs",
          "Mrs",
          "Miss",
          "Rare",
          "Mr",
          "Mrs",
          "Miss",
          "Miss",
          "Miss",
          "Mrs",
          "Miss",
          "Miss",
          "Mr",
          "Mr",
          "Miss",
          "Mrs",
          "Mrs",
          "Mr",
          "Master",
          "Miss",
          "Mr",
          "Mrs",
          "Miss",
          "Mrs",
          "Miss",
          "Mr",
          "Mr",
          "Mrs",
          "Mrs",
          "Miss",
          "Mrs",
          "Mrs",
          "Rare",
          "Mr",
          "Master",
          "Miss",
          "Mr",
          "Miss",
          "Rare",
          "Mr",
          "Mr",
          "Mrs",
          "Miss",
          "Mr",
          "Miss",
          "Mrs",
          "Mrs",
          "Miss",
          "Mrs",
          "Mr",
          "Mrs",
          "Master",
          "Miss",
          "Miss",
          "Mrs",
          "Mr",
          "Mr",
          "Mr",
          "Mr",
          "Mrs",
          "Mrs",
          "Mrs",
          "Miss",
          "Mrs",
          "Miss",
          "Miss",
          "Mrs",
          "Miss",
          "Miss",
          "Miss",
          "Miss",
          "Mr",
          "Mrs",
          "Mr",
          "Master",
          "Mr",
          "Mr",
          "Miss",
          "Rare",
          "Mrs",
          "Mrs",
          "Mr",
          "Mr",
          "Mrs",
          "Mr",
          "Miss",
          "Miss",
          "Mrs",
          "Mr",
          "Miss",
          "Mrs",
          "Miss",
          "Mr",
          "Mrs",
          "Miss",
          "Rare",
          "Mrs",
          "Mr",
          "Mr",
          "Mrs",
          "Miss",
          "Miss",
          "Miss",
          "Miss",
          "Mr",
          "Mr",
          "Miss",
          "Mr",
          "Dr",
          "Miss",
          "Rare",
          "Mr",
          "Miss",
          "Mr",
          "Rare",
          "Miss",
          "Miss",
          "Miss",
          "Dr",
          "Mr",
          "Mrs",
          "Mrs",
          "Mr",
          "Miss",
          "Mr",
          "Mr",
          "Miss",
          "Mr",
          "Miss",
          "Mr",
          "Miss",
          "Mrs",
          "Mr",
          "Mrs",
          "Mr",
          "Miss",
          "Master",
          "Rare",
          "Mr",
          "Miss",
          "Miss",
          "Miss",
          "Mr",
          "Mrs",
          "Miss",
          "Miss",
          "Mr",
          "Mr",
          "Miss",
          "Mr",
          "Miss",
          "Miss",
          "Master",
          "Mrs",
          "Master",
          "Rare",
          "Mr",
          "Mrs",
          "Mrs",
          "Mrs",
          "Miss",
          "Mrs",
          "Miss",
          "Mrs",
          "Miss",
          "Master",
          "Dr",
          "Mrs",
          "Mrs",
          "Master",
          "Master",
          "Mr",
          "Mrs",
          "Mrs",
          "Mr",
          "Mrs",
          "Master",
          "Mr",
          "Mrs",
          "Mrs",
          "Master",
          "Miss",
          "Mr",
          "Mr",
          "Miss",
          "Mrs",
          "Miss",
          "Mrs",
          "Mrs",
          "Mr",
          "Mrs",
          "Mrs",
          "Mrs",
          "Miss",
          "Master",
          "Mrs",
          "Mrs",
          "Miss",
          "Mrs",
          "Mrs",
          "Miss",
          "Mr"
         ],
         "xaxis": "x",
         "yaxis": "y"
        }
       ],
       "layout": {
        "barmode": "group",
        "legend": {
         "title": {
          "text": "Survived"
         },
         "tracegroupgap": 0
        },
        "template": {
         "data": {
          "bar": [
           {
            "error_x": {
             "color": "#2a3f5f"
            },
            "error_y": {
             "color": "#2a3f5f"
            },
            "marker": {
             "line": {
              "color": "#E5ECF6",
              "width": 0.5
             },
             "pattern": {
              "fillmode": "overlay",
              "size": 10,
              "solidity": 0.2
             }
            },
            "type": "bar"
           }
          ],
          "barpolar": [
           {
            "marker": {
             "line": {
              "color": "#E5ECF6",
              "width": 0.5
             },
             "pattern": {
              "fillmode": "overlay",
              "size": 10,
              "solidity": 0.2
             }
            },
            "type": "barpolar"
           }
          ],
          "carpet": [
           {
            "aaxis": {
             "endlinecolor": "#2a3f5f",
             "gridcolor": "white",
             "linecolor": "white",
             "minorgridcolor": "white",
             "startlinecolor": "#2a3f5f"
            },
            "baxis": {
             "endlinecolor": "#2a3f5f",
             "gridcolor": "white",
             "linecolor": "white",
             "minorgridcolor": "white",
             "startlinecolor": "#2a3f5f"
            },
            "type": "carpet"
           }
          ],
          "choropleth": [
           {
            "colorbar": {
             "outlinewidth": 0,
             "ticks": ""
            },
            "type": "choropleth"
           }
          ],
          "contour": [
           {
            "colorbar": {
             "outlinewidth": 0,
             "ticks": ""
            },
            "colorscale": [
             [
              0,
              "#0d0887"
             ],
             [
              0.1111111111111111,
              "#46039f"
             ],
             [
              0.2222222222222222,
              "#7201a8"
             ],
             [
              0.3333333333333333,
              "#9c179e"
             ],
             [
              0.4444444444444444,
              "#bd3786"
             ],
             [
              0.5555555555555556,
              "#d8576b"
             ],
             [
              0.6666666666666666,
              "#ed7953"
             ],
             [
              0.7777777777777778,
              "#fb9f3a"
             ],
             [
              0.8888888888888888,
              "#fdca26"
             ],
             [
              1,
              "#f0f921"
             ]
            ],
            "type": "contour"
           }
          ],
          "contourcarpet": [
           {
            "colorbar": {
             "outlinewidth": 0,
             "ticks": ""
            },
            "type": "contourcarpet"
           }
          ],
          "heatmap": [
           {
            "colorbar": {
             "outlinewidth": 0,
             "ticks": ""
            },
            "colorscale": [
             [
              0,
              "#0d0887"
             ],
             [
              0.1111111111111111,
              "#46039f"
             ],
             [
              0.2222222222222222,
              "#7201a8"
             ],
             [
              0.3333333333333333,
              "#9c179e"
             ],
             [
              0.4444444444444444,
              "#bd3786"
             ],
             [
              0.5555555555555556,
              "#d8576b"
             ],
             [
              0.6666666666666666,
              "#ed7953"
             ],
             [
              0.7777777777777778,
              "#fb9f3a"
             ],
             [
              0.8888888888888888,
              "#fdca26"
             ],
             [
              1,
              "#f0f921"
             ]
            ],
            "type": "heatmap"
           }
          ],
          "histogram": [
           {
            "marker": {
             "pattern": {
              "fillmode": "overlay",
              "size": 10,
              "solidity": 0.2
             }
            },
            "type": "histogram"
           }
          ],
          "histogram2d": [
           {
            "colorbar": {
             "outlinewidth": 0,
             "ticks": ""
            },
            "colorscale": [
             [
              0,
              "#0d0887"
             ],
             [
              0.1111111111111111,
              "#46039f"
             ],
             [
              0.2222222222222222,
              "#7201a8"
             ],
             [
              0.3333333333333333,
              "#9c179e"
             ],
             [
              0.4444444444444444,
              "#bd3786"
             ],
             [
              0.5555555555555556,
              "#d8576b"
             ],
             [
              0.6666666666666666,
              "#ed7953"
             ],
             [
              0.7777777777777778,
              "#fb9f3a"
             ],
             [
              0.8888888888888888,
              "#fdca26"
             ],
             [
              1,
              "#f0f921"
             ]
            ],
            "type": "histogram2d"
           }
          ],
          "histogram2dcontour": [
           {
            "colorbar": {
             "outlinewidth": 0,
             "ticks": ""
            },
            "colorscale": [
             [
              0,
              "#0d0887"
             ],
             [
              0.1111111111111111,
              "#46039f"
             ],
             [
              0.2222222222222222,
              "#7201a8"
             ],
             [
              0.3333333333333333,
              "#9c179e"
             ],
             [
              0.4444444444444444,
              "#bd3786"
             ],
             [
              0.5555555555555556,
              "#d8576b"
             ],
             [
              0.6666666666666666,
              "#ed7953"
             ],
             [
              0.7777777777777778,
              "#fb9f3a"
             ],
             [
              0.8888888888888888,
              "#fdca26"
             ],
             [
              1,
              "#f0f921"
             ]
            ],
            "type": "histogram2dcontour"
           }
          ],
          "mesh3d": [
           {
            "colorbar": {
             "outlinewidth": 0,
             "ticks": ""
            },
            "type": "mesh3d"
           }
          ],
          "parcoords": [
           {
            "line": {
             "colorbar": {
              "outlinewidth": 0,
              "ticks": ""
             }
            },
            "type": "parcoords"
           }
          ],
          "pie": [
           {
            "automargin": true,
            "type": "pie"
           }
          ],
          "scatter": [
           {
            "fillpattern": {
             "fillmode": "overlay",
             "size": 10,
             "solidity": 0.2
            },
            "type": "scatter"
           }
          ],
          "scatter3d": [
           {
            "line": {
             "colorbar": {
              "outlinewidth": 0,
              "ticks": ""
             }
            },
            "marker": {
             "colorbar": {
              "outlinewidth": 0,
              "ticks": ""
             }
            },
            "type": "scatter3d"
           }
          ],
          "scattercarpet": [
           {
            "marker": {
             "colorbar": {
              "outlinewidth": 0,
              "ticks": ""
             }
            },
            "type": "scattercarpet"
           }
          ],
          "scattergeo": [
           {
            "marker": {
             "colorbar": {
              "outlinewidth": 0,
              "ticks": ""
             }
            },
            "type": "scattergeo"
           }
          ],
          "scattergl": [
           {
            "marker": {
             "colorbar": {
              "outlinewidth": 0,
              "ticks": ""
             }
            },
            "type": "scattergl"
           }
          ],
          "scattermap": [
           {
            "marker": {
             "colorbar": {
              "outlinewidth": 0,
              "ticks": ""
             }
            },
            "type": "scattermap"
           }
          ],
          "scattermapbox": [
           {
            "marker": {
             "colorbar": {
              "outlinewidth": 0,
              "ticks": ""
             }
            },
            "type": "scattermapbox"
           }
          ],
          "scatterpolar": [
           {
            "marker": {
             "colorbar": {
              "outlinewidth": 0,
              "ticks": ""
             }
            },
            "type": "scatterpolar"
           }
          ],
          "scatterpolargl": [
           {
            "marker": {
             "colorbar": {
              "outlinewidth": 0,
              "ticks": ""
             }
            },
            "type": "scatterpolargl"
           }
          ],
          "scatterternary": [
           {
            "marker": {
             "colorbar": {
              "outlinewidth": 0,
              "ticks": ""
             }
            },
            "type": "scatterternary"
           }
          ],
          "surface": [
           {
            "colorbar": {
             "outlinewidth": 0,
             "ticks": ""
            },
            "colorscale": [
             [
              0,
              "#0d0887"
             ],
             [
              0.1111111111111111,
              "#46039f"
             ],
             [
              0.2222222222222222,
              "#7201a8"
             ],
             [
              0.3333333333333333,
              "#9c179e"
             ],
             [
              0.4444444444444444,
              "#bd3786"
             ],
             [
              0.5555555555555556,
              "#d8576b"
             ],
             [
              0.6666666666666666,
              "#ed7953"
             ],
             [
              0.7777777777777778,
              "#fb9f3a"
             ],
             [
              0.8888888888888888,
              "#fdca26"
             ],
             [
              1,
              "#f0f921"
             ]
            ],
            "type": "surface"
           }
          ],
          "table": [
           {
            "cells": {
             "fill": {
              "color": "#EBF0F8"
             },
             "line": {
              "color": "white"
             }
            },
            "header": {
             "fill": {
              "color": "#C8D4E3"
             },
             "line": {
              "color": "white"
             }
            },
            "type": "table"
           }
          ]
         },
         "layout": {
          "annotationdefaults": {
           "arrowcolor": "#2a3f5f",
           "arrowhead": 0,
           "arrowwidth": 1
          },
          "autotypenumbers": "strict",
          "coloraxis": {
           "colorbar": {
            "outlinewidth": 0,
            "ticks": ""
           }
          },
          "colorscale": {
           "diverging": [
            [
             0,
             "#8e0152"
            ],
            [
             0.1,
             "#c51b7d"
            ],
            [
             0.2,
             "#de77ae"
            ],
            [
             0.3,
             "#f1b6da"
            ],
            [
             0.4,
             "#fde0ef"
            ],
            [
             0.5,
             "#f7f7f7"
            ],
            [
             0.6,
             "#e6f5d0"
            ],
            [
             0.7,
             "#b8e186"
            ],
            [
             0.8,
             "#7fbc41"
            ],
            [
             0.9,
             "#4d9221"
            ],
            [
             1,
             "#276419"
            ]
           ],
           "sequential": [
            [
             0,
             "#0d0887"
            ],
            [
             0.1111111111111111,
             "#46039f"
            ],
            [
             0.2222222222222222,
             "#7201a8"
            ],
            [
             0.3333333333333333,
             "#9c179e"
            ],
            [
             0.4444444444444444,
             "#bd3786"
            ],
            [
             0.5555555555555556,
             "#d8576b"
            ],
            [
             0.6666666666666666,
             "#ed7953"
            ],
            [
             0.7777777777777778,
             "#fb9f3a"
            ],
            [
             0.8888888888888888,
             "#fdca26"
            ],
            [
             1,
             "#f0f921"
            ]
           ],
           "sequentialminus": [
            [
             0,
             "#0d0887"
            ],
            [
             0.1111111111111111,
             "#46039f"
            ],
            [
             0.2222222222222222,
             "#7201a8"
            ],
            [
             0.3333333333333333,
             "#9c179e"
            ],
            [
             0.4444444444444444,
             "#bd3786"
            ],
            [
             0.5555555555555556,
             "#d8576b"
            ],
            [
             0.6666666666666666,
             "#ed7953"
            ],
            [
             0.7777777777777778,
             "#fb9f3a"
            ],
            [
             0.8888888888888888,
             "#fdca26"
            ],
            [
             1,
             "#f0f921"
            ]
           ]
          },
          "colorway": [
           "#636efa",
           "#EF553B",
           "#00cc96",
           "#ab63fa",
           "#FFA15A",
           "#19d3f3",
           "#FF6692",
           "#B6E880",
           "#FF97FF",
           "#FECB52"
          ],
          "font": {
           "color": "#2a3f5f"
          },
          "geo": {
           "bgcolor": "white",
           "lakecolor": "white",
           "landcolor": "#E5ECF6",
           "showlakes": true,
           "showland": true,
           "subunitcolor": "white"
          },
          "hoverlabel": {
           "align": "left"
          },
          "hovermode": "closest",
          "mapbox": {
           "style": "light"
          },
          "paper_bgcolor": "white",
          "plot_bgcolor": "#E5ECF6",
          "polar": {
           "angularaxis": {
            "gridcolor": "white",
            "linecolor": "white",
            "ticks": ""
           },
           "bgcolor": "#E5ECF6",
           "radialaxis": {
            "gridcolor": "white",
            "linecolor": "white",
            "ticks": ""
           }
          },
          "scene": {
           "xaxis": {
            "backgroundcolor": "#E5ECF6",
            "gridcolor": "white",
            "gridwidth": 2,
            "linecolor": "white",
            "showbackground": true,
            "ticks": "",
            "zerolinecolor": "white"
           },
           "yaxis": {
            "backgroundcolor": "#E5ECF6",
            "gridcolor": "white",
            "gridwidth": 2,
            "linecolor": "white",
            "showbackground": true,
            "ticks": "",
            "zerolinecolor": "white"
           },
           "zaxis": {
            "backgroundcolor": "#E5ECF6",
            "gridcolor": "white",
            "gridwidth": 2,
            "linecolor": "white",
            "showbackground": true,
            "ticks": "",
            "zerolinecolor": "white"
           }
          },
          "shapedefaults": {
           "line": {
            "color": "#2a3f5f"
           }
          },
          "ternary": {
           "aaxis": {
            "gridcolor": "white",
            "linecolor": "white",
            "ticks": ""
           },
           "baxis": {
            "gridcolor": "white",
            "linecolor": "white",
            "ticks": ""
           },
           "bgcolor": "#E5ECF6",
           "caxis": {
            "gridcolor": "white",
            "linecolor": "white",
            "ticks": ""
           }
          },
          "title": {
           "x": 0.05
          },
          "xaxis": {
           "automargin": true,
           "gridcolor": "white",
           "linecolor": "white",
           "ticks": "",
           "title": {
            "standoff": 15
           },
           "zerolinecolor": "white",
           "zerolinewidth": 2
          },
          "yaxis": {
           "automargin": true,
           "gridcolor": "white",
           "linecolor": "white",
           "ticks": "",
           "title": {
            "standoff": 15
           },
           "zerolinecolor": "white",
           "zerolinewidth": 2
          }
         }
        },
        "title": {
         "text": "Titres des passagers selon la survie"
        },
        "xaxis": {
         "anchor": "y",
         "domain": [
          0,
          1
         ],
         "title": {
          "text": "Title"
         }
        },
        "yaxis": {
         "anchor": "x",
         "domain": [
          0,
          1
         ],
         "title": {
          "text": "count"
         }
        }
       }
      }
     },
     "metadata": {},
     "output_type": "display_data"
    }
   ],
   "source": [
    "# Répartition des tailles de famille selon la survie\n",
    "fig_fam = px.histogram(data, x=\"FamilySize\", color=\"Survived\",\n",
    "                       barmode=\"group\", title=\"Répartition des tailles de famille selon la survie\",\n",
    "                       category_orders={\"FamilySize\": [\"Solo\", \"Small\", \"Large\"]})\n",
    "fig_fam.show()\n",
    "\n",
    "# Répartition des titres selon la survie\n",
    "fig_title = px.histogram(data, x=\"Title\", color=\"Survived\",\n",
    "                         barmode=\"group\", title=\"Titres des passagers selon la survie\")\n",
    "fig_title.show()\n"
   ]
  },
  {
   "cell_type": "markdown",
   "id": "24460b2f",
   "metadata": {},
   "source": [
    "#  Étape 5 : Imputation des données manquantes\n",
    "\n",
    "<!-- on complète les valeurs manquantes dans la colonne Age en remplaçant les valeurs manquantes par la médiane d’âge regroupée par titre et classe (Pclass).\n",
    "Pour la colonne Embarked (port d’embarquement), tu remplaces les valeurs manquantes par la modalité la plus fréquente. -->"
   ]
  },
  {
   "cell_type": "code",
   "execution_count": null,
   "id": "3b5d8272",
   "metadata": {},
   "outputs": [
    {
     "name": "stdout",
     "output_type": "stream",
     "text": [
      "Étape 5 : Imputation des valeurs manquantes\n"
     ]
    },
    {
     "ename": "NameError",
     "evalue": "name 'test_data' is not defined",
     "output_type": "error",
     "traceback": [
      "\u001b[31m---------------------------------------------------------------------------\u001b[39m",
      "\u001b[31mNameError\u001b[39m                                 Traceback (most recent call last)",
      "\u001b[36mCell\u001b[39m\u001b[36m \u001b[39m\u001b[32mIn[31]\u001b[39m\u001b[32m, line 12\u001b[39m\n\u001b[32m      9\u001b[39m     mode_embarked = data[\u001b[33m'\u001b[39m\u001b[33mEmbarked\u001b[39m\u001b[33m'\u001b[39m].mode()[\u001b[32m0\u001b[39m]\n\u001b[32m     10\u001b[39m     data[\u001b[33m'\u001b[39m\u001b[33mEmbarked\u001b[39m\u001b[33m'\u001b[39m] = data[\u001b[33m'\u001b[39m\u001b[33mEmbarked\u001b[39m\u001b[33m'\u001b[39m].fillna(mode_embarked)\n\u001b[32m---> \u001b[39m\u001b[32m12\u001b[39m \u001b[38;5;28;01mif\u001b[39;00m \u001b[33m'\u001b[39m\u001b[33mEmbarked\u001b[39m\u001b[33m'\u001b[39m \u001b[38;5;129;01min\u001b[39;00m \u001b[43mtest_data\u001b[49m.columns:\n\u001b[32m     13\u001b[39m     test_data[\u001b[33m'\u001b[39m\u001b[33mEmbarked\u001b[39m\u001b[33m'\u001b[39m] = test_data[\u001b[33m'\u001b[39m\u001b[33mEmbarked\u001b[39m\u001b[33m'\u001b[39m].fillna(mode_embarked \u001b[38;5;28;01mif\u001b[39;00m \u001b[33m'\u001b[39m\u001b[33mmode_embarked\u001b[39m\u001b[33m'\u001b[39m \u001b[38;5;129;01min\u001b[39;00m \u001b[38;5;28mlocals\u001b[39m() \u001b[38;5;28;01melse\u001b[39;00m \u001b[33m'\u001b[39m\u001b[33mS\u001b[39m\u001b[33m'\u001b[39m)\n\u001b[32m     15\u001b[39m \u001b[38;5;28mprint\u001b[39m(\u001b[33m\"\u001b[39m\u001b[33m Imputations terminées.\u001b[39m\u001b[33m\"\u001b[39m)\n",
      "\u001b[31mNameError\u001b[39m: name 'test_data' is not defined"
     ]
    }
   ],
   "source": [
    "print(\"Étape 5 : Imputation des valeurs manquantes\")\n",
    "\n",
    "# Imputation de l'âge selon le groupe Title + Pclass\n",
    "if all(col in data.columns for col in ['Age', 'Title', 'Pclass']):\n",
    "    data['Age'] = data.groupby(['Title', 'Pclass'])['Age'].transform(lambda x: x.fillna(x.median()))\n",
    "\n",
    "# Imputation de 'Embarked' (mode du jeu principal)\n",
    "if 'Embarked' in data.columns:\n",
    "    mode_embarked = data['Embarked'].mode()[0]\n",
    "    data['Embarked'] = data['Embarked'].fillna(mode_embarked)\n",
    "\n",
    "if 'Embarked' in test_data.columns:\n",
    "    test_data['Embarked'] = test_data['Embarked'].fillna(mode_embarked if 'mode_embarked' in locals() else 'S')\n",
    "\n",
    "print(\" Imputations terminées.\")\n"
   ]
  },
  {
   "cell_type": "markdown",
   "id": "6706c5c8",
   "metadata": {},
   "source": [
    "# Preprocessing\n",
    "\n",
    "<!-- On crée une nouvelle colonne Title extraite de Name.\n",
    "\n",
    "On remplace les valeurs manquantes dans Age en utilisant la médiane par groupe (Title, Pclass).\n",
    "\n",
    "On remplace les valeurs manquantes dans Embarked par la valeur la plus fréquente.\n",
    "\n",
    "On applique ces remplacements dans les deux datasets data et test_data. -->"
   ]
  },
  {
   "cell_type": "code",
   "execution_count": null,
   "id": "61d4e7e1",
   "metadata": {},
   "outputs": [],
   "source": [
    "\n",
    "import pandas as pd\n",
    "\n",
    "def preprocess(data, test_data=None):\n",
    "    print(\"=== Étape 5 : Imputation des valeurs manquantes ===\")\n",
    "\n",
    "    # Imputation de l'âge par médiane selon le groupe Title + Pclass\n",
    "    if all(col in data.columns for col in ['Age', 'Title', 'Pclass']):\n",
    "        data['Age'] = data.groupby(['Title', 'Pclass'])['Age'].transform(lambda x: x.fillna(x.median()))\n",
    "\n",
    "    # Imputation de 'Embarked' dans data\n",
    "    mode_embarked = data['Embarked'].mode()[0] if 'Embarked' in data.columns else 'S'\n",
    "    if 'Embarked' in data.columns:\n",
    "        data['Embarked'] = data['Embarked'].fillna(mode_embarked)\n",
    "\n",
    "    # Appliquer les mêmes imputations à test_data si fourni\n",
    "    if test_data is not None:\n",
    "        if 'Embarked' in test_data.columns:\n",
    "            test_data['Embarked'] = test_data['Embarked'].fillna(mode_embarked)\n",
    "        else:\n",
    "            test_data['Embarked'] = mode_embarked\n",
    "\n",
    "        if all(col in test_data.columns for col in ['Age', 'Title', 'Pclass']):\n",
    "            age_medians = data.groupby(['Title', 'Pclass'])['Age'].median()\n",
    "            test_data['Age'] = test_data.apply(\n",
    "                lambda row: age_medians.get((row['Title'], row['Pclass']), data['Age'].median())\n",
    "                if pd.isnull(row['Age']) else row['Age'], axis=1\n",
    "            )\n",
    "\n",
    "    print(\" Valeurs manquantes traitées.\\n\")\n",
    "    return data, test_data\n"
   ]
  },
  {
   "cell_type": "markdown",
   "id": "e4c418e5",
   "metadata": {},
   "source": [
    "#  Étape 6 : Nettoyage, encodage et split train/test\n",
    "\n",
    "<!-- On supprime les colonnes non pertinentes ou trop complexes à exploiter (Name, Ticket, Cabin, PassengerId).\n",
    "on transforme les variables catégorielles en variables indicatrices (one-hot encoding) pour que les modèles puissent les comprendre.\n",
    "on sépare les données en variables explicatives X et variable cible y. -->"
   ]
  },
  {
   "cell_type": "code",
   "execution_count": null,
   "id": "24fbea73",
   "metadata": {},
   "outputs": [
    {
     "name": "stdout",
     "output_type": "stream",
     "text": [
      "Étape 6 : Nettoyage et encodage des données\n",
      "Dimensions X_train : (712, 25)\n",
      "Dimensions X_test  : (179, 25)\n"
     ]
    }
   ],
   "source": [
    "# 6. Préparation finale des données\n",
    "\n",
    "print(\"Étape 6 : Nettoyage et encodage des données\")\n",
    "\n",
    "# Suppression de colonnes non pertinentes pour le modèle (seulement si elles existent)\n",
    "cols_to_drop = [\"Name\", \"Ticket\", \"Cabin\", \"PassengerId\"]\n",
    "data = data.drop(columns=[col for col in cols_to_drop if col in data.columns])\n",
    "\n",
    "# Encodage one-hot des variables catégorielles (seulement si elles existent)\n",
    "cat_vars = [\"Sex\", \"Embarked\", \"Title\", \"FamilySize\", \"Age_bin\", \"Fare_bin\"]\n",
    "cat_vars = [col for col in cat_vars if col in data.columns]\n",
    "data = pd.get_dummies(data, columns=cat_vars, drop_first=True)\n",
    "\n",
    "# Définition des variables d'entrée et de la cible\n",
    "X = data.drop(\"Survived\", axis=1)\n",
    "y = data[\"Survived\"]\n",
    "\n",
    "# Séparation en jeu d'entraînement et jeu de test\n",
    "from sklearn.model_selection import train_test_split\n",
    "\n",
    "X_train, X_test, y_train, y_test = train_test_split(\n",
    "    X, y, test_size=0.2, random_state=42, stratify=y\n",
    ")\n",
    "\n",
    "print(f\"Dimensions X_train : {X_train.shape}\")\n",
    "print(f\"Dimensions X_test  : {X_test.shape}\")\n"
   ]
  },
  {
   "cell_type": "markdown",
   "id": "b0ef48df",
   "metadata": {},
   "source": [
    "#       Étape 7 : Standardisation\n",
    "<!-- mettre tout modèles (SVM, régression logistique) et mettre les variables sur la même échelle.\n",
    "on standardise donc les données d’entraînement puis les appliques la même transformation au jeu de test. -->"
   ]
  },
  {
   "cell_type": "code",
   "execution_count": null,
   "id": "704c4792",
   "metadata": {},
   "outputs": [
    {
     "name": "stdout",
     "output_type": "stream",
     "text": [
      "Étape 7 : Standardisation\n",
      "Standardisation terminée\n"
     ]
    }
   ],
   "source": [
    "\n",
    "# 7. Standardisation\n",
    "\n",
    "print(\"Étape 7 : Standardisation\")\n",
    "\n",
    "scaler = StandardScaler()\n",
    "\n",
    "#Ajustement sur les données d'entraînement et transformation\n",
    "X_train_scaled = scaler.fit_transform(X_train)\n",
    "\n",
    "# Transformation des données de test\n",
    "X_test_scaled = scaler.transform(X_test)\n",
    "\n",
    "print(\"Standardisation terminée\")\n"
   ]
  },
  {
   "cell_type": "markdown",
   "id": "75601cf9",
   "metadata": {},
   "source": [
    "#  Étape 8 : Entraînement des modèles de base\n",
    "<!-- on entraîne trois modèles classiques :\n",
    "\n",
    "Random Forest (non standardisé car les arbres ne sont pas sensibles à l’échelle),\n",
    "\n",
    "Régression Logistique et SVM (Standardisés).\n",
    "\n",
    "Pour chacun, on évalue la performance moyenne avec une validation croisée (5 folds) sur le jeu d’entraînement.\n",
    "Entraînement et test : Pour chaque itération, un pli est utilisé comme ensemble de test, tandis que les 4 autres plis sont utilisés pour entraîner le modèle. \n",
    "-->"
   ]
  },
  {
   "cell_type": "code",
   "execution_count": null,
   "id": "b8c2b89b",
   "metadata": {},
   "outputs": [
    {
     "name": "stdout",
     "output_type": "stream",
     "text": [
      "Étape 8 : Entraînement des modèles\n",
      "Test du modèle : Random Forest\n",
      "Score moyen : 0.8020\n",
      "Test du modèle : Logistic Regression\n",
      "Score moyen : 0.8147\n",
      "Test du modèle : SVM\n",
      "Score moyen : 0.8216\n",
      "Meilleur modèle sélectionné : SVM\n"
     ]
    }
   ],
   "source": [
    "\n",
    "# 8.    # Modélisation de base\n",
    " #teste plusieurs algorithmes sur les données d'entraînement en évaluant leurs performances par validation croisée.\n",
    "\n",
    "print(\"Étape 8 : Entraînement des modèles\")\n",
    "\n",
    "models = {\n",
    "    'Random Forest': RandomForestClassifier(n_estimators=100, random_state=42),\n",
    "    'Logistic Regression': LogisticRegression(random_state=42, max_iter=1000),\n",
    "    'SVM': SVC(probability=True, random_state=42)\n",
    "}\n",
    "\n",
    "model_scores = {}\n",
    "from sklearn.model_selection import cross_val_score\n",
    "\n",
    "#Boucle d’entraînement et d’évaluation avec validation croisée :\n",
    "for name, model in models.items():\n",
    "    print(f\"Test du modèle : {name}\")\n",
    "    if name == \"Random Forest\":\n",
    "        scores = cross_val_score(model, X_train, y_train, cv=5)\n",
    "    else:\n",
    "        scores = cross_val_score(model, X_train_scaled, y_train, cv=5) #Pour Logistic Regression et SVM, on utilise les données standardisées (X_train_scaled) car ces modèles sont sensibles\n",
    "    model_scores[name] = scores.mean()\n",
    "    print(f\"Score moyen : {scores.mean():.4f}\")\n",
    "\n",
    "best_model_name = max(model_scores, key=model_scores.get)\n",
    "print(f\"Meilleur modèle sélectionné : {best_model_name}\")\n"
   ]
  },
  {
   "cell_type": "markdown",
   "id": "522d3008",
   "metadata": {},
   "source": [
    "#        Étape 9 : Optimisation GridSearchCV\n",
    "\n",
    "<!-- GridSearchCV pour chercher les meilleurs hyperparamètres \n",
    "Par exemple nombre d’arbres, profondeur max pour Random Forest,\n",
    "\n",
    "Régularisation pour la régression logistique,\n",
    "\n",
    "Paramètres C et kernel pour le SVM.\n",
    "GridSearchCV fait une validation croisée interne pour trouver la meilleure combinaison.\n",
    "\n",
    "-->"
   ]
  },
  {
   "cell_type": "code",
   "execution_count": null,
   "id": "cf5099cb",
   "metadata": {},
   "outputs": [
    {
     "name": "stdout",
     "output_type": "stream",
     "text": [
      "Étape 9 : Optimisation GridSearch\n",
      "Meilleurs paramètres : {'C': 1, 'gamma': 'scale', 'kernel': 'rbf'}\n"
     ]
    }
   ],
   "source": [
    "\n",
    "print(\"Étape 9 : Optimisation GridSearch\")\n",
    "\n",
    "from sklearn.model_selection import GridSearchCV\n",
    "\n",
    "if best_model_name == 'Random Forest':\n",
    "    param_grid = {\n",
    "        'n_estimators': [100, 200], #Nombre d'arbres de décision dans la forêt\n",
    "        'max_depth': [None, 10], # Profondeur maximale des arbres\n",
    "        'min_samples_split': [2, 5] # Nombre minimum d'échantillons requis pour diviser un nœud interne\n",
    "    }\n",
    "    grid = GridSearchCV(models[best_model_name], param_grid, cv=5, n_jobs=-1)  # cv=5 signifie que chaque combinaison est testée via une validation croisée 5 fois pour avoir une moyenne fiable.\n",
    "    grid.fit(X_train, y_train)\n",
    "\n",
    "elif best_model_name == 'Logistic Regression':\n",
    "    param_grid = {\n",
    "        'C': [0.1, 1, 10], # Inverse de la force de régularisation\n",
    "        'penalty': ['l2'], # Type de pénalité\n",
    "        'solver': ['lbfgs'] # Algorithme d'optimisation\n",
    "    }\n",
    "    grid = GridSearchCV(models[best_model_name], param_grid, cv=5, n_jobs=-1) \n",
    "    grid.fit(X_train_scaled, y_train)\n",
    "\n",
    "else:  # SVM\n",
    "    param_grid = {\n",
    "        'C': [0.1, 1],\n",
    "        'kernel': ['rbf'],\n",
    "        'gamma': ['scale']\n",
    "    }\n",
    "    grid = GridSearchCV(models[best_model_name], param_grid, cv=5, n_jobs=-1)\n",
    "    grid.fit(X_train_scaled, y_train)\n",
    "\n",
    "optimized_model = grid.best_estimator_\n",
    "print(\"Meilleurs paramètres :\", grid.best_params_)\n"
   ]
  },
  {
   "cell_type": "markdown",
   "id": "1f6fe401",
   "metadata": {},
   "source": [
    "#       10. Évaluation finale\n",
    "<!--  calcules la courbe ROC (taux de faux positifs en fonction du taux de vrais positifs) \n",
    "\n",
    "Target (y) = Survived :\n",
    "\n",
    "0 = Le passager n’a pas survécu \n",
    "\n",
    "1 = Le passager a survécu\n",
    "\n",
    "98 passagers non survivants bien classés (TN) True negative\n",
    "\n",
    "12 passagers non survivants prédit survivants (FP) fake potitive\n",
    "\n",
    "18 passagers survivants prédit non survivants (FN)\n",
    "\n",
    "51 passagers survivants bien classés (TP) True positive \n",
    "\n",
    "Vrai positif () - Il s’agit des prédictions correctes faites qui sont étiquetées comme positives. Vous pouvez saisir cette valeur et les valeurs ci-dessous dans la première section du calculateur de matrice de confusion.TP\n",
    "Faux négatif () - Il s’agit des mauvaises prédictions faites qui sont étiquetées comme négatives.FN\n",
    "Faux positif () - Il s’agit des mauvaises prédictions faites qui sont étiquetées comme positives.FP\n",
    "Vrai négatif () - Il s’agit des prédictions correctes faites qui sont étiquetées comme négatives.TN\n",
    "-->"
   ]
  },
  {
   "cell_type": "code",
   "execution_count": null,
   "id": "deeb6816",
   "metadata": {},
   "outputs": [
    {
     "name": "stdout",
     "output_type": "stream",
     "text": [
      "Étape 10 : Évaluation finale\n",
      "Accuracy : 0.8324022346368715\n",
      "Rapport de classification :\n",
      "               precision    recall  f1-score   support\n",
      "\n",
      "           0       0.84      0.89      0.87       110\n",
      "           1       0.81      0.74      0.77        69\n",
      "\n",
      "    accuracy                           0.83       179\n",
      "   macro avg       0.83      0.82      0.82       179\n",
      "weighted avg       0.83      0.83      0.83       179\n",
      "\n",
      "Matrice de confusion :\n",
      " [[98 12]\n",
      " [18 51]]\n"
     ]
    },
    {
     "data": {
      "image/png": "[encoded data removed]",
      "text/plain": [
       "<Figure size 640x480 with 2 Axes>"
      ]
     },
     "metadata": {},
     "output_type": "display_data"
    }
   ],
   "source": [
    "\n",
    "print(\"Étape 10 : Évaluation finale\")\n",
    "\n",
    "if best_model_name == 'Random Forest':\n",
    "    y_pred = optimized_model.predict(X_test)\n",
    "    y_proba = optimized_model.predict_proba(X_test)[:, 1]\n",
    "else:\n",
    "    y_pred = optimized_model.predict(X_test_scaled) #les prédictions binaires (0 ou 1)\n",
    "    y_proba = optimized_model.predict_proba(X_test_scaled)[:, 1]\n",
    "\n",
    "from sklearn.metrics import accuracy_score, classification_report, confusion_matrix\n",
    "\n",
    "print(\"Accuracy :\", accuracy_score(y_test, y_pred))\n",
    "print(\"Rapport de classification :\\n\", classification_report(y_test, y_pred))\n",
    "\n",
    "# Matrice de confusion\n",
    "cm = confusion_matrix(y_test, y_pred)\n",
    "print(\"Matrice de confusion :\\n\", cm)\n",
    "from sklearn.metrics import ConfusionMatrixDisplay\n",
    "import matplotlib.pyplot as plt\n",
    "\n",
    "\n",
    "\n",
    "# Affichage matrice de confusion avec matplotlib\n",
    "disp = ConfusionMatrixDisplay(confusion_matrix=cm,\n",
    "                              display_labels=optimized_model.classes_)\n",
    "disp.plot(cmap=plt.cm.Blues)\n",
    "plt.title(f'Matrice de confusion - {best_model_name}')\n",
    "plt.show()\n",
    "\n"
   ]
  },
  {
   "cell_type": "markdown",
   "id": "3b052b22",
   "metadata": {},
   "source": [
    "#  11. Courbe ROC\n",
    "<!-- La courbe ROC est un outil graphique utilisé pour évaluer la performance d’un modèle de classification binaire-->"
   ]
  },
  {
   "cell_type": "code",
   "execution_count": null,
   "id": "7af64597",
   "metadata": {},
   "outputs": [
    {
     "name": "stdout",
     "output_type": "stream",
     "text": [
      "Étape 11 : Courbe ROC\n",
      "AUC ROC : 0.8466\n"
     ]
    },
    {
     "data": {
      "application/vnd.plotly.v1+json": {
       "config": {
        "plotlyServerURL": "https://plot.ly"
       },
       "data": [
        {
         "line": {
          "color": "darkorange",
          "width": 3
         },
         "mode": "lines",
         "name": "ROC curve (AUC = 0.85)",
         "type": "scatter",
         "x": {
          "bdata": "AAAAAAAAAACeEuQpQZ6CP54S5ClBnoI/nhLkKUGekj+eEuQpQZ6SP54S5ClBnpI/7RvWvmHtmz/tG9a+Ye2bP0YXXXTRRac/RhdddNFFpz/tG9a+Ye2rP+0b1r5h7as/SpCnBHlKsD9KkKcEeUqwP54S5ClBnrI/nhLkKUGesj/ylCBPCfK0P/KUIE8J8rQ/RhdddNFFtz9GF1100UW3P0qQpwR5SsA/SpCnBHlKwD9GF1100UXHP0YXXXTRRcc/SpCnBHlK0D9KkKcEeUrQP54S5ClBntI/nhLkKUGe0j/IU4I8JcjTP8hTgjwlyNM/8pQgTwny1D/ylCBPCfLUPwV5SpCnBNk/L7rooosu2j/tG9a+Ye3bPwAAAAAAAOA/lSBPCfKU4D8qQZ4S5CnhP3TRRRdddOE/dNFFF1104T8J8pQgTwniP54S5ClBnuI/fsPaN6x94z9mZmZmZmbmP2ZmZmZmZuY/kKcEeUqQ5z8lyFOCPCXoPyXIU4I8Jeg/5ClBnhLk6T/kKUGeEuTpP2LtG9a+Ye0/Yu0b1r5h7T8hTwnylCDvPyFPCfKUIO8/AAAAAAAA8D8=",
          "dtype": "f8"
         },
         "y": {
          "bdata": "AAAAAAAAAAAAAAAAAAAAAKBR4meU+Mk/oFHiZ5T4yT8p8TNK/IzSP0aJn1HiZ9Q/RomfUeJn1D/MtQNz7cDcP8y1A3PtwNw/+RklfkaJ3z/5GSV+RonfPxolfkaJn+E/GiV+Romf4T8hC1nIQhbiPyELWchCFuI/OL3pTW964z84velNb3rjP2QhC1nIQuY/ZCELWchC5j9605ve9KbnP3rTm970puc/grl2YK4d6D+CuXZgrh3oP5hrB+bagek/mGsH5tqB6T+nN73pTW/qP6c3velNb+o/tgNz7cBc6z+2A3PtwFzrP73pTW960+s/velNb3rT6z/FzyjxM0rsP8XPKPEzSuw/xc8o8TNK7D/FzyjxM0rsP8XPKPEzSuw/xc8o8TNK7D/FzyjxM0rsP8XPKPEzSuw/zLUDc+3A7D/MtQNz7cDsP8y1A3PtwOw/zLUDc+3A7D/MtQNz7cDsP9Ob3vSmN+0/05ve9KY37T/Tm970pjftP+JnlPgZJe4/4meU+Bkl7j/xM0r8jBLvP/EzSvyMEu8/+RklfkaJ7z/5GSV+RonvPwAAAAAAAPA/AAAAAAAA8D8=",
          "dtype": "f8"
         }
        },
        {
         "line": {
          "color": "navy",
          "dash": "dash",
          "width": 2
         },
         "mode": "lines",
         "name": "Random Classifier",
         "type": "scatter",
         "x": [
          0,
          1
         ],
         "y": [
          0,
          1
         ]
        }
       ],
       "layout": {
        "legend": {
         "x": 0.6,
         "y": 0.1
        },
        "template": {
         "data": {
          "bar": [
           {
            "error_x": {
             "color": "#2a3f5f"
            },
            "error_y": {
             "color": "#2a3f5f"
            },
            "marker": {
             "line": {
              "color": "white",
              "width": 0.5
             },
             "pattern": {
              "fillmode": "overlay",
              "size": 10,
              "solidity": 0.2
             }
            },
            "type": "bar"
           }
          ],
          "barpolar": [
           {
            "marker": {
             "line": {
              "color": "white",
              "width": 0.5
             },
             "pattern": {
              "fillmode": "overlay",
              "size": 10,
              "solidity": 0.2
             }
            },
            "type": "barpolar"
           }
          ],
          "carpet": [
           {
            "aaxis": {
             "endlinecolor": "#2a3f5f",
             "gridcolor": "#C8D4E3",
             "linecolor": "#C8D4E3",
             "minorgridcolor": "#C8D4E3",
             "startlinecolor": "#2a3f5f"
            },
            "baxis": {
             "endlinecolor": "#2a3f5f",
             "gridcolor": "#C8D4E3",
             "linecolor": "#C8D4E3",
             "minorgridcolor": "#C8D4E3",
             "startlinecolor": "#2a3f5f"
            },
            "type": "carpet"
           }
          ],
          "choropleth": [
           {
            "colorbar": {
             "outlinewidth": 0,
             "ticks": ""
            },
            "type": "choropleth"
           }
          ],
          "contour": [
           {
            "colorbar": {
             "outlinewidth": 0,
             "ticks": ""
            },
            "colorscale": [
             [
              0,
              "#0d0887"
             ],
             [
              0.1111111111111111,
              "#46039f"
             ],
             [
              0.2222222222222222,
              "#7201a8"
             ],
             [
              0.3333333333333333,
              "#9c179e"
             ],
             [
              0.4444444444444444,
              "#bd3786"
             ],
             [
              0.5555555555555556,
              "#d8576b"
             ],
             [
              0.6666666666666666,
              "#ed7953"
             ],
             [
              0.7777777777777778,
              "#fb9f3a"
             ],
             [
              0.8888888888888888,
              "#fdca26"
             ],
             [
              1,
              "#f0f921"
             ]
            ],
            "type": "contour"
           }
          ],
          "contourcarpet": [
           {
            "colorbar": {
             "outlinewidth": 0,
             "ticks": ""
            },
            "type": "contourcarpet"
           }
          ],
          "heatmap": [
           {
            "colorbar": {
             "outlinewidth": 0,
             "ticks": ""
            },
            "colorscale": [
             [
              0,
              "#0d0887"
             ],
             [
              0.1111111111111111,
              "#46039f"
             ],
             [
              0.2222222222222222,
              "#7201a8"
             ],
             [
              0.3333333333333333,
              "#9c179e"
             ],
             [
              0.4444444444444444,
              "#bd3786"
             ],
             [
              0.5555555555555556,
              "#d8576b"
             ],
             [
              0.6666666666666666,
              "#ed7953"
             ],
             [
              0.7777777777777778,
              "#fb9f3a"
             ],
             [
              0.8888888888888888,
              "#fdca26"
             ],
             [
              1,
              "#f0f921"
             ]
            ],
            "type": "heatmap"
           }
          ],
          "histogram": [
           {
            "marker": {
             "pattern": {
              "fillmode": "overlay",
              "size": 10,
              "solidity": 0.2
             }
            },
            "type": "histogram"
           }
          ],
          "histogram2d": [
           {
            "colorbar": {
             "outlinewidth": 0,
             "ticks": ""
            },
            "colorscale": [
             [
              0,
              "#0d0887"
             ],
             [
              0.1111111111111111,
              "#46039f"
             ],
             [
              0.2222222222222222,
              "#7201a8"
             ],
             [
              0.3333333333333333,
              "#9c179e"
             ],
             [
              0.4444444444444444,
              "#bd3786"
             ],
             [
              0.5555555555555556,
              "#d8576b"
             ],
             [
              0.6666666666666666,
              "#ed7953"
             ],
             [
              0.7777777777777778,
              "#fb9f3a"
             ],
             [
              0.8888888888888888,
              "#fdca26"
             ],
             [
              1,
              "#f0f921"
             ]
            ],
            "type": "histogram2d"
           }
          ],
          "histogram2dcontour": [
           {
            "colorbar": {
             "outlinewidth": 0,
             "ticks": ""
            },
            "colorscale": [
             [
              0,
              "#0d0887"
             ],
             [
              0.1111111111111111,
              "#46039f"
             ],
             [
              0.2222222222222222,
              "#7201a8"
             ],
             [
              0.3333333333333333,
              "#9c179e"
             ],
             [
              0.4444444444444444,
              "#bd3786"
             ],
             [
              0.5555555555555556,
              "#d8576b"
             ],
             [
              0.6666666666666666,
              "#ed7953"
             ],
             [
              0.7777777777777778,
              "#fb9f3a"
             ],
             [
              0.8888888888888888,
              "#fdca26"
             ],
             [
              1,
              "#f0f921"
             ]
            ],
            "type": "histogram2dcontour"
           }
          ],
          "mesh3d": [
           {
            "colorbar": {
             "outlinewidth": 0,
             "ticks": ""
            },
            "type": "mesh3d"
           }
          ],
          "parcoords": [
           {
            "line": {
             "colorbar": {
              "outlinewidth": 0,
              "ticks": ""
             }
            },
            "type": "parcoords"
           }
          ],
          "pie": [
           {
            "automargin": true,
            "type": "pie"
           }
          ],
          "scatter": [
           {
            "fillpattern": {
             "fillmode": "overlay",
             "size": 10,
             "solidity": 0.2
            },
            "type": "scatter"
           }
          ],
          "scatter3d": [
           {
            "line": {
             "colorbar": {
              "outlinewidth": 0,
              "ticks": ""
             }
            },
            "marker": {
             "colorbar": {
              "outlinewidth": 0,
              "ticks": ""
             }
            },
            "type": "scatter3d"
           }
          ],
          "scattercarpet": [
           {
            "marker": {
             "colorbar": {
              "outlinewidth": 0,
              "ticks": ""
             }
            },
            "type": "scattercarpet"
           }
          ],
          "scattergeo": [
           {
            "marker": {
             "colorbar": {
              "outlinewidth": 0,
              "ticks": ""
             }
            },
            "type": "scattergeo"
           }
          ],
          "scattergl": [
           {
            "marker": {
             "colorbar": {
              "outlinewidth": 0,
              "ticks": ""
             }
            },
            "type": "scattergl"
           }
          ],
          "scattermap": [
           {
            "marker": {
             "colorbar": {
              "outlinewidth": 0,
              "ticks": ""
             }
            },
            "type": "scattermap"
           }
          ],
          "scattermapbox": [
           {
            "marker": {
             "colorbar": {
              "outlinewidth": 0,
              "ticks": ""
             }
            },
            "type": "scattermapbox"
           }
          ],
          "scatterpolar": [
           {
            "marker": {
             "colorbar": {
              "outlinewidth": 0,
              "ticks": ""
             }
            },
            "type": "scatterpolar"
           }
          ],
          "scatterpolargl": [
           {
            "marker": {
             "colorbar": {
              "outlinewidth": 0,
              "ticks": ""
             }
            },
            "type": "scatterpolargl"
           }
          ],
          "scatterternary": [
           {
            "marker": {
             "colorbar": {
              "outlinewidth": 0,
              "ticks": ""
             }
            },
            "type": "scatterternary"
           }
          ],
          "surface": [
           {
            "colorbar": {
             "outlinewidth": 0,
             "ticks": ""
            },
            "colorscale": [
             [
              0,
              "#0d0887"
             ],
             [
              0.1111111111111111,
              "#46039f"
             ],
             [
              0.2222222222222222,
              "#7201a8"
             ],
             [
              0.3333333333333333,
              "#9c179e"
             ],
             [
              0.4444444444444444,
              "#bd3786"
             ],
             [
              0.5555555555555556,
              "#d8576b"
             ],
             [
              0.6666666666666666,
              "#ed7953"
             ],
             [
              0.7777777777777778,
              "#fb9f3a"
             ],
             [
              0.8888888888888888,
              "#fdca26"
             ],
             [
              1,
              "#f0f921"
             ]
            ],
            "type": "surface"
           }
          ],
          "table": [
           {
            "cells": {
             "fill": {
              "color": "#EBF0F8"
             },
             "line": {
              "color": "white"
             }
            },
            "header": {
             "fill": {
              "color": "#C8D4E3"
             },
             "line": {
              "color": "white"
             }
            },
            "type": "table"
           }
          ]
         },
         "layout": {
          "annotationdefaults": {
           "arrowcolor": "#2a3f5f",
           "arrowhead": 0,
           "arrowwidth": 1
          },
          "autotypenumbers": "strict",
          "coloraxis": {
           "colorbar": {
            "outlinewidth": 0,
            "ticks": ""
           }
          },
          "colorscale": {
           "diverging": [
            [
             0,
             "#8e0152"
            ],
            [
             0.1,
             "#c51b7d"
            ],
            [
             0.2,
             "#de77ae"
            ],
            [
             0.3,
             "#f1b6da"
            ],
            [
             0.4,
             "#fde0ef"
            ],
            [
             0.5,
             "#f7f7f7"
            ],
            [
             0.6,
             "#e6f5d0"
            ],
            [
             0.7,
             "#b8e186"
            ],
            [
             0.8,
             "#7fbc41"
            ],
            [
             0.9,
             "#4d9221"
            ],
            [
             1,
             "#276419"
            ]
           ],
           "sequential": [
            [
             0,
             "#0d0887"
            ],
            [
             0.1111111111111111,
             "#46039f"
            ],
            [
             0.2222222222222222,
             "#7201a8"
            ],
            [
             0.3333333333333333,
             "#9c179e"
            ],
            [
             0.4444444444444444,
             "#bd3786"
            ],
            [
             0.5555555555555556,
             "#d8576b"
            ],
            [
             0.6666666666666666,
             "#ed7953"
            ],
            [
             0.7777777777777778,
             "#fb9f3a"
            ],
            [
             0.8888888888888888,
             "#fdca26"
            ],
            [
             1,
             "#f0f921"
            ]
           ],
           "sequentialminus": [
            [
             0,
             "#0d0887"
            ],
            [
             0.1111111111111111,
             "#46039f"
            ],
            [
             0.2222222222222222,
             "#7201a8"
            ],
            [
             0.3333333333333333,
             "#9c179e"
            ],
            [
             0.4444444444444444,
             "#bd3786"
            ],
            [
             0.5555555555555556,
             "#d8576b"
            ],
            [
             0.6666666666666666,
             "#ed7953"
            ],
            [
             0.7777777777777778,
             "#fb9f3a"
            ],
            [
             0.8888888888888888,
             "#fdca26"
            ],
            [
             1,
             "#f0f921"
            ]
           ]
          },
          "colorway": [
           "#636efa",
           "#EF553B",
           "#00cc96",
           "#ab63fa",
           "#FFA15A",
           "#19d3f3",
           "#FF6692",
           "#B6E880",
           "#FF97FF",
           "#FECB52"
          ],
          "font": {
           "color": "#2a3f5f"
          },
          "geo": {
           "bgcolor": "white",
           "lakecolor": "white",
           "landcolor": "white",
           "showlakes": true,
           "showland": true,
           "subunitcolor": "#C8D4E3"
          },
          "hoverlabel": {
           "align": "left"
          },
          "hovermode": "closest",
          "mapbox": {
           "style": "light"
          },
          "paper_bgcolor": "white",
          "plot_bgcolor": "white",
          "polar": {
           "angularaxis": {
            "gridcolor": "#EBF0F8",
            "linecolor": "#EBF0F8",
            "ticks": ""
           },
           "bgcolor": "white",
           "radialaxis": {
            "gridcolor": "#EBF0F8",
            "linecolor": "#EBF0F8",
            "ticks": ""
           }
          },
          "scene": {
           "xaxis": {
            "backgroundcolor": "white",
            "gridcolor": "#DFE8F3",
            "gridwidth": 2,
            "linecolor": "#EBF0F8",
            "showbackground": true,
            "ticks": "",
            "zerolinecolor": "#EBF0F8"
           },
           "yaxis": {
            "backgroundcolor": "white",
            "gridcolor": "#DFE8F3",
            "gridwidth": 2,
            "linecolor": "#EBF0F8",
            "showbackground": true,
            "ticks": "",
            "zerolinecolor": "#EBF0F8"
           },
           "zaxis": {
            "backgroundcolor": "white",
            "gridcolor": "#DFE8F3",
            "gridwidth": 2,
            "linecolor": "#EBF0F8",
            "showbackground": true,
            "ticks": "",
            "zerolinecolor": "#EBF0F8"
           }
          },
          "shapedefaults": {
           "line": {
            "color": "#2a3f5f"
           }
          },
          "ternary": {
           "aaxis": {
            "gridcolor": "#DFE8F3",
            "linecolor": "#A2B1C6",
            "ticks": ""
           },
           "baxis": {
            "gridcolor": "#DFE8F3",
            "linecolor": "#A2B1C6",
            "ticks": ""
           },
           "bgcolor": "white",
           "caxis": {
            "gridcolor": "#DFE8F3",
            "linecolor": "#A2B1C6",
            "ticks": ""
           }
          },
          "title": {
           "x": 0.05
          },
          "xaxis": {
           "automargin": true,
           "gridcolor": "#EBF0F8",
           "linecolor": "#EBF0F8",
           "ticks": "",
           "title": {
            "standoff": 15
           },
           "zerolinecolor": "#EBF0F8",
           "zerolinewidth": 2
          },
          "yaxis": {
           "automargin": true,
           "gridcolor": "#EBF0F8",
           "linecolor": "#EBF0F8",
           "ticks": "",
           "title": {
            "standoff": 15
           },
           "zerolinecolor": "#EBF0F8",
           "zerolinewidth": 2
          }
         }
        },
        "title": {
         "text": "Courbe ROC"
        },
        "xaxis": {
         "title": {
          "text": "Taux de faux positifs (FPR)"
         }
        },
        "yaxis": {
         "title": {
          "text": "Taux de vrais positifs (TPR)"
         }
        }
       }
      }
     },
     "metadata": {},
     "output_type": "display_data"
    }
   ],
   "source": [
    "\n",
    "print(\"Étape 11 : Courbe ROC\")\n",
    "\n",
    "from sklearn.metrics import roc_curve, auc\n",
    "import plotly.graph_objects as go\n",
    "\n",
    "fpr, tpr, _ = roc_curve(y_test, y_proba) #calcule les taux de faux positifs et vrais positifs pour différents seuils.\n",
    "roc_auc = auc(fpr, tpr)  #calcule l’aire sous la courbe ROC obtenue.\n",
    "print(f\"AUC ROC : {roc_auc:.4f}\")\n",
    "\n",
    "# Visualisation avec Plotly\n",
    "fig = go.Figure()\n",
    "\n",
    "fig.add_trace(go.Scatter(x=fpr, y=tpr,\n",
    "                         mode='lines',\n",
    "                         name=f'ROC curve (AUC = {roc_auc:.2f})',\n",
    "                         line=dict(color='darkorange', width=3)))\n",
    "\n",
    "fig.add_trace(go.Scatter(x=[0, 1], y=[0, 1],\n",
    "                         mode='lines',\n",
    "                         name='Random Classifier',\n",
    "                         line=dict(color='navy', width=2, dash='dash')))\n",
    "\n",
    "fig.update_layout(title='Courbe ROC',\n",
    "                  xaxis_title='Taux de faux positifs (FPR)',\n",
    "                  yaxis_title='Taux de vrais positifs (TPR)',\n",
    "                  legend=dict(x=0.6, y=0.1),\n",
    "                  template='plotly_white')\n",
    "\n",
    "fig.show()\n"
   ]
  },
  {
   "cell_type": "markdown",
   "id": "93f7748e",
   "metadata": {},
   "source": [
    "# visualiser la courbe ROC avec plotly"
   ]
  },
  {
   "cell_type": "code",
   "execution_count": null,
   "id": "e6eb260c",
   "metadata": {},
   "outputs": [
    {
     "data": {
      "image/png": "[encoded data removed]",
      "text/plain": [
       "<Figure size 640x480 with 1 Axes>"
      ]
     },
     "metadata": {},
     "output_type": "display_data"
    }
   ],
   "source": [
    "import matplotlib.pyplot as plt\n",
    "\n",
    "plt.figure()\n",
    "plt.plot(fpr, tpr, label=f'ROC curve (AUC = {roc_auc:.2f})')\n",
    "plt.plot([0, 1], [0, 1], 'k--', label='Hasard')\n",
    "plt.xlabel('False Positive Rate')\n",
    "plt.ylabel('True Positive Rate')\n",
    "plt.title('Courbe ROC')\n",
    "plt.legend(loc='lower right')\n",
    "plt.show()\n"
   ]
  },
  {
   "cell_type": "markdown",
   "id": "d0ecb3d0",
   "metadata": {},
   "source": [
    "# submission"
   ]
  },
  {
   "cell_type": "code",
   "execution_count": null,
   "id": "ddb06508",
   "metadata": {},
   "outputs": [
    {
     "name": "stdout",
     "output_type": "stream",
     "text": [
      "Fichier submission.csv créé avec succès !\n"
     ]
    }
   ],
   "source": [
    "# 1. Chargement des données\n",
    "train = pd.read_csv('bdd/train.csv')\n",
    "test = pd.read_csv('bdd/test.csv')\n",
    "\n",
    "# 2. Imputation des valeurs manquantes\n",
    "\n",
    "# Remplissage Age avec la médiane\n",
    "train['Age'].fillna(train['Age'].median(), inplace=True)\n",
    "test['Age'].fillna(train['Age'].median(), inplace=True)\n",
    "\n",
    "# Remplissage Embarked avec la valeur la plus fréquente dans train\n",
    "train['Embarked'].fillna(train['Embarked'].mode()[0], inplace=True)\n",
    "test['Embarked'].fillna(train['Embarked'].mode()[0], inplace=True)\n",
    "\n",
    "# 3. Encodage des variables catégorielles\n",
    "\n",
    "# Sex → 0/1\n",
    "train['Sex'] = train['Sex'].map({'male': 0, 'female': 1})\n",
    "test['Sex'] = test['Sex'].map({'male': 0, 'female': 1})\n",
    "\n",
    "# Embarked → one-hot encoding\n",
    "train = pd.concat([train, pd.get_dummies(train['Embarked'], prefix='Embarked')], axis=1)\n",
    "test = pd.concat([test, pd.get_dummies(test['Embarked'], prefix='Embarked')], axis=1)\n",
    "\n",
    "train.drop('Embarked', axis=1, inplace=True)\n",
    "test.drop('Embarked', axis=1, inplace=True)\n",
    "\n",
    "# 4. Sélection des features pour le modèle\n",
    "features = ['Pclass', 'Age', 'Sex', 'Embarked_C', 'Embarked_Q', 'Embarked_S']\n",
    "\n",
    "# 5. Entraînement du modèle\n",
    "model = RandomForestClassifier(random_state=42)\n",
    "model.fit(train[features], train['Survived'])\n",
    "\n",
    "# 6. Prédictions sur test\n",
    "predictions = model.predict(test[features])\n",
    "\n",
    "# 7. Création du fichier submission\n",
    "submission = pd.DataFrame({\n",
    "    'PassengerId': test['PassengerId'],\n",
    "    'Survived': predictions\n",
    "})\n",
    "\n",
    "submission.to_csv('submission.csv', index=False)\n",
    "\n",
    "print(\"Fichier submission.csv créé avec succès !\")\n"
   ]
  }
 ],
 "metadata": {
  "kernelspec": {
   "display_name": ".venv",
   "language": "python",
   "name": "python3"
  },
  "language_info": {
   "codemirror_mode": {
    "name": "ipython",
    "version": 3
   },
   "file_extension": ".py",
   "mimetype": "text/x-python",
   "name": "python",
   "nbconvert_exporter": "python",
   "pygments_lexer": "ipython3",
   "version": "3.12.3"
  }
 },
 "nbformat": 4,
 "nbformat_minor": 5
}
